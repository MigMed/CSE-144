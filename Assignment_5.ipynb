{
  "nbformat": 4,
  "nbformat_minor": 0,
  "metadata": {
    "colab": {
      "name": "Copy of Assignment 5.ipynb",
      "provenance": [],
      "collapsed_sections": []
    },
    "kernelspec": {
      "name": "python3",
      "display_name": "Python 3"
    },
    "language_info": {
      "name": "python"
    },
    "accelerator": "GPU"
  },
  "cells": [
    {
      "cell_type": "code",
      "metadata": {
        "id": "2IlwhV0z2nMr"
      },
      "source": [
        "%matplotlib inline"
      ],
      "execution_count": 1,
      "outputs": []
    },
    {
      "cell_type": "markdown",
      "metadata": {
        "id": "Chprzdhe2nMw"
      },
      "source": [
        "# Assignment 5\n",
        "\n",
        "**DUE: Sunday December 5, 2021 11:59pm**\n",
        "\n",
        "Turn in the assignment via Canvas.\n",
        "\n",
        "To write legible answers you will need to be familiar with both [Markdown](https://github.com/adam-p/markdown-here/wiki/Markdown-Cheatsheet) and [Latex](https://www.latex-tutorial.com/tutorials/amsmath/)\n",
        "\n",
        "Before you turn this problem in, make sure everything runs as expected. First, restart the kernel (in the menubar, select Runtime→→Restart runtime) and then run all cells (in the menubar, select Runtime→→Run All).\n",
        "\n",
        "Make sure you fill in any place that says \"YOUR CODE HERE\" or \"YOUR ANSWER HERE\", as well as your name below:"
      ]
    },
    {
      "cell_type": "code",
      "metadata": {
        "id": "8jeWubXE2nMx"
      },
      "source": [
        "NAME = \"Miguel Medina\"\n",
        "STUDENT_ID = \"1384909\""
      ],
      "execution_count": 2,
      "outputs": []
    },
    {
      "cell_type": "code",
      "metadata": {
        "id": "Bv1G7ixQvN8E"
      },
      "source": [
        "import numpy as np\n",
        "import pandas as pd\n",
        "import matplotlib.pyplot as plt\n",
        "import seaborn as sns\n",
        "\n",
        "import tensorflow as tf\n",
        "\n",
        "from sklearn.metrics import accuracy_score, precision_score, recall_score\n",
        "from sklearn.model_selection import train_test_split\n",
        "from tensorflow.keras import layers, losses\n",
        "from tensorflow.keras.datasets import fashion_mnist\n",
        "from tensorflow.keras.models import Model"
      ],
      "execution_count": 3,
      "outputs": []
    },
    {
      "cell_type": "markdown",
      "metadata": {
        "id": "Y32nQiJbSAwC"
      },
      "source": [
        "## Question 1: Bitcoin Price Prediction\n",
        "---\n",
        "Bitcoin, amongst other assets like AMC and GME, has been all the rage this past year and reached an all time high of \\$68,521 per bitcoin. Since reaching it's high, the price has dropped by nearly a half. Analysts continue to feed the frenzy by releasing price predictions that range from from \\$500,000 to \\$9,000 per bitcoin in the next year. You will make an Recurrent neural network model to gain some insight into price prediction. Yahoo! Finance is a trusted name in free financial information and has been with us since the internet's early years. You'll be using data gathered obtained from https://finance.yahoo.com/quote/BTC-USD/history/ to train your recurrent neural network.\n",
        "\n",
        "Run the following code cell to download the training and test data. It might take a while to download the zip file and extract it.\n",
        "\n",
        "Link to the raw data: [link](https://drive.google.com/file/d/1IvrXXUDB_kO4ydZb-lwtVF9BLccDtdJP/view?usp=sharing)"
      ]
    },
    {
      "cell_type": "code",
      "metadata": {
        "id": "iExiItBkdS8F"
      },
      "source": [
        "from pydrive.auth import GoogleAuth\n",
        "from pydrive.drive import GoogleDrive\n",
        "from google.colab import auth\n",
        "from oauth2client.client import GoogleCredentials\n",
        "import io\n",
        "import zipfile\n",
        "auth.authenticate_user()\n",
        "gauth = GoogleAuth()\n",
        "gauth.credentials = GoogleCredentials.get_application_default()\n",
        "drive = GoogleDrive(gauth)\n",
        "file_id = '1IvrXXUDB_kO4ydZb-lwtVF9BLccDtdJP'\n",
        "downloaded = drive.CreateFile({'id': file_id})\n",
        "downloaded.GetContentFile('BTC-USD.csv')\n"
      ],
      "execution_count": 4,
      "outputs": []
    },
    {
      "cell_type": "code",
      "metadata": {
        "id": "_ab-5H8XVOVi"
      },
      "source": [
        "# Create pandas dataframe\n",
        "data = pd.read_csv('BTC-USD.csv')\n",
        "\n",
        "data = data[data['High'].notna()]"
      ],
      "execution_count": 5,
      "outputs": []
    },
    {
      "cell_type": "code",
      "metadata": {
        "id": "8W_KrGElWT0y",
        "colab": {
          "base_uri": "https://localhost:8080/"
        },
        "outputId": "e2bb2e0d-43e1-4215-adaa-6ce8fb02dd73"
      },
      "source": [
        "# Plot data.head()\n",
        "data.info()"
      ],
      "execution_count": 6,
      "outputs": [
        {
          "output_type": "stream",
          "name": "stdout",
          "text": [
            "<class 'pandas.core.frame.DataFrame'>\n",
            "Int64Index: 2618 entries, 0 to 2621\n",
            "Data columns (total 7 columns):\n",
            " #   Column     Non-Null Count  Dtype  \n",
            "---  ------     --------------  -----  \n",
            " 0   Date       2618 non-null   object \n",
            " 1   Open       2618 non-null   float64\n",
            " 2   High       2618 non-null   float64\n",
            " 3   Low        2618 non-null   float64\n",
            " 4   Close      2618 non-null   float64\n",
            " 5   Adj Close  2618 non-null   float64\n",
            " 6   Volume     2618 non-null   float64\n",
            "dtypes: float64(6), object(1)\n",
            "memory usage: 163.6+ KB\n"
          ]
        }
      ]
    },
    {
      "cell_type": "markdown",
      "metadata": {
        "id": "x0UzN1BASfgD"
      },
      "source": [
        "Let's plot the bitcoin price. First, we will make a plot of bitcoin price vs the days after September 15, 2014, the start date of this dataset. Day \"0\" indicates September 15, 2014."
      ]
    },
    {
      "cell_type": "code",
      "metadata": {
        "id": "UjcXKOtg6jb5",
        "colab": {
          "base_uri": "https://localhost:8080/",
          "height": 265
        },
        "outputId": "5d624d94-6262-444f-d512-8168f9e856d2"
      },
      "source": [
        "import matplotlib.pyplot as plt\n",
        "import seaborn as sns # Used for plotting\n",
        "\n",
        "g = sns.lineplot(x = np.linspace(1,2618,2618), y = data['High'].values.reshape(-1))\n"
      ],
      "execution_count": 7,
      "outputs": [
        {
          "output_type": "display_data",
          "data": {
            "image/png": "[encoded data removed]",
            "text/plain": [
              "<Figure size 432x288 with 1 Axes>"
            ]
          },
          "metadata": {
            "needs_background": "light"
          }
        }
      ]
    },
    {
      "cell_type": "markdown",
      "metadata": {
        "id": "Upn-QIHf6mwa"
      },
      "source": [
        "Next, we plot bitcoin vs. days. But this time there are dates added to the graph."
      ]
    },
    {
      "cell_type": "code",
      "metadata": {
        "id": "qaUQJVYCSc-S",
        "colab": {
          "base_uri": "https://localhost:8080/",
          "height": 519
        },
        "outputId": "50870a94-a4d1-4251-a54f-9fbb54b12428"
      },
      "source": [
        "import matplotlib.pyplot as plt\n",
        "import seaborn as sns # Used for plotting\n",
        "\n",
        "g = sns.lineplot(x = np.linspace(1,2618,2618), y = data['High'].values.reshape(-1))\n",
        "#g.map(plt.plot, \"a\", \"v\", marker=\"o\")\n",
        "g.set(xticks=np.arange(0,2500,200))\n",
        "g.set_xticklabels(rotation=30, labels = data['Date'][0::200])"
      ],
      "execution_count": 8,
      "outputs": [
        {
          "output_type": "execute_result",
          "data": {
            "text/plain": [
              "[Text(0, 0, '2014-09-17'),\n",
              " Text(0, 0, '2015-04-05'),\n",
              " Text(0, 0, '2015-10-22'),\n",
              " Text(0, 0, '2016-05-09'),\n",
              " Text(0, 0, '2016-11-25'),\n",
              " Text(0, 0, '2017-06-13'),\n",
              " Text(0, 0, '2017-12-30'),\n",
              " Text(0, 0, '2018-07-18'),\n",
              " Text(0, 0, '2019-02-03'),\n",
              " Text(0, 0, '2019-08-22'),\n",
              " Text(0, 0, '2020-03-09'),\n",
              " Text(0, 0, '2020-09-26'),\n",
              " Text(0, 0, '2021-04-17')]"
            ]
          },
          "metadata": {},
          "execution_count": 8
        },
        {
          "output_type": "display_data",
          "data": {
            "image/png": "[encoded data removed]",
            "text/plain": [
              "<Figure size 432x288 with 1 Axes>"
            ]
          },
          "metadata": {
            "needs_background": "light"
          }
        }
      ]
    },
    {
      "cell_type": "markdown",
      "metadata": {
        "id": "DHC5nm2AMwT4"
      },
      "source": [
        "### Part a) Data Preprocessing (5 points)\n",
        "In this section you will preprocess the in order to train a recurrent neural network. We can see that there 5 columns, \"Date\", \"Open\", \"High\", \"Low\", \"Close\", \"Adjusted Close\", and \"Volume\". We will only use the High column."
      ]
    },
    {
      "cell_type": "code",
      "metadata": {
        "id": "mhTJ8iATNFlC"
      },
      "source": [
        "# Create a dataframe that only contains High Column.\n",
        "# Hint: it may be helpful to now cast your pruned dataframe to a numpy array.\n",
        "\n",
        "data_high = pd.DataFrame(data, columns = ['High'])\n",
        "data_high = data_high.to_numpy()"
      ],
      "execution_count": 9,
      "outputs": []
    },
    {
      "cell_type": "markdown",
      "metadata": {
        "id": "JJ6wmmb2DJnE"
      },
      "source": [
        "\n",
        "Recall [MinMaxScaler](https://scikit-learn.org/stable/modules/generated/sklearn.preprocessing.MinMaxScaler.html) from sklearn. Use it to scale the data for our analysis. "
      ]
    },
    {
      "cell_type": "code",
      "metadata": {
        "id": "4FXLabvyCEN_"
      },
      "source": [
        "from sklearn.preprocessing import MinMaxScaler\n",
        "scaler = MinMaxScaler()\n",
        "scaler = scaler.fit(data_high)\n",
        "data_normalized = scaler.transform(data_high)"
      ],
      "execution_count": 10,
      "outputs": []
    },
    {
      "cell_type": "markdown",
      "metadata": {
        "id": "Dqq2K_UpNnrX"
      },
      "source": [
        "You will implement a simple autoregressive recurrent neural network using the standard tensorflow RNN architectures. An autoregressive model originates from the literature on time-series models where observations from the previous time-steps are used to predict the value at the current time step. To implemement an autoregressive model, we will simply augment the data so that \"time_steps\" number of previous days are fed to the model at the current time step in order to form a prediction. The function to augment the data is given to you:"
      ]
    },
    {
      "cell_type": "code",
      "metadata": {
        "id": "jtz4UhmUNngP"
      },
      "source": [
        "\n",
        "def create_dataset(dataset, time_steps=1):\n",
        "    \"\"\"\n",
        "    Generate a dataset where the time series X[n] contains the readings for the 'time_step' previous days \n",
        "    and y contains the price for today.\n",
        "    args:\n",
        "    dataset: numpy array, the data\n",
        "    time_steps: the number of previous days to feed to RNN\n",
        "\n",
        "    returns:\n",
        "    tuple: a dataset with x[i] containing 'time_step' number of previous prices, target price for x[i]\n",
        "    \"\"\"\n",
        "    dataX, dataY = [],[]\n",
        "    for i in range(len(dataset)-time_steps-1):\n",
        "        a = dataset[i:(i+time_steps)]\n",
        "        dataX.append(a)\n",
        "        dataY.append(dataset[i + time_steps])\n",
        "    return np.array(dataX), np.array(dataY)"
      ],
      "execution_count": 11,
      "outputs": []
    },
    {
      "cell_type": "code",
      "metadata": {
        "id": "GtUFvFWuNmiQ"
      },
      "source": [
        "# Choose the number of time steps that the model \"looks back\"\n",
        "time_steps = 5\n",
        "\n",
        "# Produce your dataset based on the number of days the model could look back\n",
        "X, y = create_dataset(data_normalized, time_steps)"
      ],
      "execution_count": 12,
      "outputs": []
    },
    {
      "cell_type": "code",
      "metadata": {
        "id": "GUmwLVKQ9PVN",
        "colab": {
          "base_uri": "https://localhost:8080/"
        },
        "outputId": "7d5ba64c-3bb6-4c61-f76f-8797b55fee52"
      },
      "source": [
        "# Check the shape of your dataset; should be (2622-time_steps-1, time_steps) and (2622-time_steps-1,)\n",
        "print(X.shape, y.shape)"
      ],
      "execution_count": 13,
      "outputs": [
        {
          "output_type": "stream",
          "name": "stdout",
          "text": [
            "(2612, 5, 1) (2612, 1)\n"
          ]
        }
      ]
    },
    {
      "cell_type": "markdown",
      "metadata": {
        "id": "MBKjptQ4Sa7O"
      },
      "source": [
        "### Part b) Data Partitioning (5 points)\n",
        "Split data into train and test sets. Use 80\\% for training and 20\\% for testing. **Note**: you need to split the data in time (the begining 80\\% of the days from start date will be the training data and the remaining 20\\% will be test data)."
      ]
    },
    {
      "cell_type": "code",
      "metadata": {
        "id": "q-lwp69bNn-v"
      },
      "source": [
        "X_train, X_test, y_train, y_test = train_test_split(X, y, train_size=.8, shuffle=False)"
      ],
      "execution_count": 14,
      "outputs": []
    },
    {
      "cell_type": "markdown",
      "metadata": {
        "id": "C3ylDfvKSRpt"
      },
      "source": [
        "For this dataset, you need to reshape the partitions for the model to be able to process them."
      ]
    },
    {
      "cell_type": "code",
      "metadata": {
        "id": "VGY8MCxWSRpv"
      },
      "source": [
        "# Reshape input to be [samples, time steps, features].\n",
        "X_train = np.reshape(X_train, (X_train.shape[0], 1, X_train.shape[1]))\n",
        "X_test = np.reshape(X_test, (X_test.shape[0], 1, X_test.shape[1]))"
      ],
      "execution_count": 15,
      "outputs": []
    },
    {
      "cell_type": "markdown",
      "metadata": {
        "id": "XT5ychZQTh_R"
      },
      "source": [
        "### Part c) RNN Model (15 points)\n",
        "In this part you will create a model using an RNN layer (LSTM or GRU, unidirectional or bidirectional) and train it on your training data. You will also plot training and validation loss. Use mean squared error as your model's metric."
      ]
    },
    {
      "cell_type": "markdown",
      "metadata": {
        "id": "QI6ZFzquTh_R"
      },
      "source": [
        "Compile your model and display the summary:"
      ]
    },
    {
      "cell_type": "code",
      "metadata": {
        "id": "6UVNRGQlTh_S"
      },
      "source": [
        "from keras.models import Sequential\n",
        "from keras.layers import LSTM\n",
        "\n",
        "# Build your model\n",
        "model = Sequential()\n",
        "model.add(LSTM(64))\n",
        "\n",
        "loss = tf.keras.losses.MeanSquaredError()\n",
        "\n",
        "opt = tf.keras.optimizers.Adam()\n",
        "\n",
        "metrics = tf.keras.metrics.MeanSquaredError()\n",
        "\n",
        "model.compile(loss=loss, optimizer=opt, metrics=metrics)"
      ],
      "execution_count": 16,
      "outputs": []
    },
    {
      "cell_type": "code",
      "metadata": {
        "id": "Cy6nV7WXTh_S",
        "colab": {
          "base_uri": "https://localhost:8080/"
        },
        "outputId": "2c7f347f-1f5f-4ffb-b7d4-a32f3e90f69a"
      },
      "source": [
        "batchsize = 256\n",
        "\n",
        "epochs =  5\n",
        "\n",
        "# Fit model\n",
        "history = model.fit(X_train, y_train, batch_size=batchsize, epochs=epochs, validation_split=.2, shuffle=False)"
      ],
      "execution_count": 17,
      "outputs": [
        {
          "output_type": "stream",
          "name": "stdout",
          "text": [
            "Epoch 1/5\n",
            "7/7 [==============================] - 3s 101ms/step - loss: 0.0046 - mean_squared_error: 0.0046 - val_loss: 0.0159 - val_mean_squared_error: 0.0159\n",
            "Epoch 2/5\n",
            "7/7 [==============================] - 0s 9ms/step - loss: 0.0045 - mean_squared_error: 0.0045 - val_loss: 0.0155 - val_mean_squared_error: 0.0155\n",
            "Epoch 3/5\n",
            "7/7 [==============================] - 0s 11ms/step - loss: 0.0044 - mean_squared_error: 0.0044 - val_loss: 0.0150 - val_mean_squared_error: 0.0150\n",
            "Epoch 4/5\n",
            "7/7 [==============================] - 0s 10ms/step - loss: 0.0042 - mean_squared_error: 0.0042 - val_loss: 0.0146 - val_mean_squared_error: 0.0146\n",
            "Epoch 5/5\n",
            "7/7 [==============================] - 0s 12ms/step - loss: 0.0041 - mean_squared_error: 0.0041 - val_loss: 0.0141 - val_mean_squared_error: 0.0141\n"
          ]
        }
      ]
    },
    {
      "cell_type": "code",
      "metadata": {
        "id": "_ymO0e_oTh_S",
        "colab": {
          "base_uri": "https://localhost:8080/",
          "height": 295
        },
        "outputId": "ca558237-0fca-4090-989e-aad0b1e59481"
      },
      "source": [
        "# Plot the Model loss\n",
        "plt.plot([x+1 for x in range(5)], history.history['loss'])\n",
        "plt.plot([x+1 for x in range(5)], history.history['val_loss'])\n",
        "plt.title('Model Loss')\n",
        "plt.ylabel('Loss')\n",
        "plt.xlabel('Epochs')\n",
        "plt.legend(['train', 'test'])\n",
        "plt.show()"
      ],
      "execution_count": 18,
      "outputs": [
        {
          "output_type": "display_data",
          "data": {
            "image/png": "[encoded data removed]",
            "text/plain": [
              "<Figure size 432x288 with 1 Axes>"
            ]
          },
          "metadata": {
            "needs_background": "light"
          }
        }
      ]
    },
    {
      "cell_type": "markdown",
      "metadata": {
        "id": "bZPc1zwFUWmv"
      },
      "source": [
        "### Part d) More Advanced RNN Model (15 points)\n",
        "In this part you will create an RNN model with the number of layers and architerure you prefer. Train it on your training data. You will also plot training and validation loss. Again, use mean squared error as your metric. In this part, you can try different models and use different hyper-parameters and report only the best one."
      ]
    },
    {
      "cell_type": "markdown",
      "metadata": {
        "id": "vsDP4F6RUWmx"
      },
      "source": [
        "Compile your model and display the summary:"
      ]
    },
    {
      "cell_type": "code",
      "metadata": {
        "id": "VJqARE-aUWmx"
      },
      "source": [
        "from keras.layers import Dense, Dropout\n",
        "\n",
        "# Build your model\n",
        "\n",
        "model = Sequential()\n",
        "model.add(LSTM(64))\n",
        "model.add(Dense(64))\n",
        "model.add(Dropout(0.5))\n",
        "model.add(Dense(32))\n",
        "model.add(Dropout(0.8))\n",
        "model.add(Dense(1))\n",
        "\n",
        "loss = tf.keras.losses.MeanSquaredError()\n",
        "\n",
        "opt = tf.keras.optimizers.Adam()\n",
        "\n",
        "metrics = tf.keras.metrics.MeanSquaredError()\n",
        "\n",
        "model.compile(loss=loss, optimizer=opt, metrics=metrics)"
      ],
      "execution_count": 19,
      "outputs": []
    },
    {
      "cell_type": "code",
      "metadata": {
        "id": "kuloKr8QUWmy",
        "colab": {
          "base_uri": "https://localhost:8080/"
        },
        "outputId": "26786914-21d9-45ab-9d6d-9671bd3b5993"
      },
      "source": [
        "batchsize = 256\n",
        "epochs =  5\n",
        "\n",
        "# Fit model\n",
        "history = model.fit(X_train, y_train, batch_size=batchsize, epochs=epochs, validation_split=.2, shuffle=False)"
      ],
      "execution_count": 20,
      "outputs": [
        {
          "output_type": "stream",
          "name": "stdout",
          "text": [
            "Epoch 1/5\n",
            "7/7 [==============================] - 3s 97ms/step - loss: 0.0047 - mean_squared_error: 0.0047 - val_loss: 0.0061 - val_mean_squared_error: 0.0061\n",
            "Epoch 2/5\n",
            "7/7 [==============================] - 0s 9ms/step - loss: 0.0027 - mean_squared_error: 0.0027 - val_loss: 0.0022 - val_mean_squared_error: 0.0022\n",
            "Epoch 3/5\n",
            "7/7 [==============================] - 0s 13ms/step - loss: 0.0025 - mean_squared_error: 0.0025 - val_loss: 0.0039 - val_mean_squared_error: 0.0039\n",
            "Epoch 4/5\n",
            "7/7 [==============================] - 0s 11ms/step - loss: 0.0014 - mean_squared_error: 0.0014 - val_loss: 0.0014 - val_mean_squared_error: 0.0014\n",
            "Epoch 5/5\n",
            "7/7 [==============================] - 0s 9ms/step - loss: 0.0011 - mean_squared_error: 0.0011 - val_loss: 5.3769e-04 - val_mean_squared_error: 5.3769e-04\n"
          ]
        }
      ]
    },
    {
      "cell_type": "code",
      "metadata": {
        "id": "WiIh66vMUWmy",
        "colab": {
          "base_uri": "https://localhost:8080/",
          "height": 295
        },
        "outputId": "bc31a276-0784-4d33-ac5c-9849a37159a2"
      },
      "source": [
        "# Plot the Model loss\n",
        "plt.plot([x+1 for x in range(5)], history.history['loss'])\n",
        "plt.plot([x+1 for x in range(5)], history.history['val_loss'])\n",
        "plt.title('Model Loss')\n",
        "plt.ylabel('Loss')\n",
        "plt.xlabel('Epochs')\n",
        "plt.legend(['train', 'test'])\n",
        "plt.show()"
      ],
      "execution_count": 21,
      "outputs": [
        {
          "output_type": "display_data",
          "data": {
            "image/png": "[encoded data removed]",
            "text/plain": [
              "<Figure size 432x288 with 1 Axes>"
            ]
          },
          "metadata": {
            "needs_background": "light"
          }
        }
      ]
    },
    {
      "cell_type": "markdown",
      "metadata": {
        "id": "GkDcoN3CUWmy"
      },
      "source": [
        "### Part e) Looking at the Predictions (10 points)\n",
        "Now, Using the final (best) model you trained, show your model's performance on the test set. Plot the model's prediction for Bitcoin Price along with the actual test set prices. Lastly, note how your model's predictions change with your model's architecture and the number of days you \"look back\". Does your model perform better with more \"look back days\" or less. Did adding more layers help? Does your model use dropout or batchnormalization?\n",
        "\n",
        "**Note:** Your model is trained on normalized data. Inorder to transform your model's predictions to the original price range you will likely need to use sklearn's inverse_transform (https://scikit-learn.org/stable/modules/generated/sklearn.preprocessing.StandardScaler.html)"
      ]
    },
    {
      "cell_type": "code",
      "metadata": {
        "id": "m7dZ2Of1R4kI",
        "colab": {
          "base_uri": "https://localhost:8080/",
          "height": 295
        },
        "outputId": "fb950eca-45de-40d9-f1d9-8db2d495da59"
      },
      "source": [
        "real = scaler.inverse_transform(y_test)\n",
        "plt.plot(real)\n",
        "prediction = model.predict(X_test)\n",
        "predicted = scaler.inverse_transform(prediction)\n",
        "plt.plot(predicted)\n",
        "plt.title('True vs Prediction')\n",
        "plt.ylabel('Price')\n",
        "plt.xlabel('Time')\n",
        "plt.legend(['true', 'predicted'])\n",
        "plt.show()"
      ],
      "execution_count": 22,
      "outputs": [
        {
          "output_type": "display_data",
          "data": {
            "image/png": "[encoded data removed]",
            "text/plain": [
              "<Figure size 432x288 with 1 Axes>"
            ]
          },
          "metadata": {
            "needs_background": "light"
          }
        }
      ]
    },
    {
      "cell_type": "markdown",
      "metadata": {
        "id": "1to7eXUQNbDd"
      },
      "source": [
        "I don't think there is a clear answer to how look back days affect the accuracy. I ended up going with 5. While getting there I tried some numbers both higher and lower, each having a lower accuracy. Seems like there is a \"sweet spot\" that gets the best measurements. Yes, adding more layers did help make the MSE smaller. "
      ]
    },
    {
      "cell_type": "markdown",
      "metadata": {
        "id": "fLJDlFbyfmj5"
      },
      "source": [
        "## Question 2: Reuters Topic Classification\n",
        "---\n",
        "We will use the [Reuters newswire](https://keras.io/api/datasets/reuters/) classification dataset, which has text paired with 46 topics as labels. You can see what these labels represent [here](https://martin-thoma.com/nlp-reuters/). You will analyze the text and classify the text into one of the 46 classes. Classes are the defined based on the following list (in the same order):\n",
        ">```\n",
        "['cocoa','grain','veg-oil','earn','acq','wheat','copper',\n",
        "'housing','money-supply','coffee','sugar','trade','reserves',\n",
        "'ship','cotton','carcass','crude','nat-gas','cpi','money-fx',\n",
        "'interest','gnp','meal-feed','alum','oilseed','gold','tin',\n",
        "'strategic-metal','livestock','retail','ipi','iron-steel',\n",
        "'rubber','heat','jobs','lei','bop','zinc','orange',\n",
        "'pet-chem','dlr','gas','silver','wpi','hog','lead']\n",
        "```\n",
        "\n"
      ]
    },
    {
      "cell_type": "markdown",
      "metadata": {
        "id": "NyiOu4LzgAur"
      },
      "source": [
        "### Part a) Processing the Data (5 points)\n",
        "Load the data simply from Keras: https://www.tensorflow.org/api_docs/python/tf/keras/datasets/reuters/load_data.\n",
        "You also need to follow the RNN handout from the class exercise and prepare encoding and decoding functions and any other pre-processing you might find useful.\n",
        "\n",
        "Print 5 examples of news along with their class label. "
      ]
    },
    {
      "cell_type": "code",
      "metadata": {
        "id": "PnzsyAmwvImD",
        "colab": {
          "base_uri": "https://localhost:8080/"
        },
        "outputId": "c723e10b-f723-4245-fc68-775e08ea4937"
      },
      "source": [
        "from tensorflow.keras.datasets import reuters\n",
        "from tensorflow.keras.preprocessing.sequence import pad_sequences\n",
        "import textwrap\n",
        "\n",
        "# Load data\n",
        "max_sequence_len = 200 \n",
        "(X_train, y_train), (_, _) = reuters.load_data(maxlen=max_sequence_len, test_split=0.0)\n",
        "\n",
        "# Clean and pre-process the data\n",
        "word_dict = reuters.get_word_index()\n",
        "\n",
        "word_dict = {k:(v+3) for k,v in word_dict.items()}\n",
        "word_dict[\"<PAD>\"] = 0\n",
        "word_dict[\"<START>\"] = 1\n",
        "word_dict[\"<UNK>\"] = 2\n",
        "word_dict[\"<UNUSED>\"] = 3\n",
        "\n",
        "vocab_size = len(word_dict.keys())\n",
        "\n",
        "inverse_word_dict = {value:key for key,value in word_dict.items()}\n",
        "\n",
        "X_train = pad_sequences(X_train, maxlen=max_sequence_len)\n",
        "\n",
        "def encode_review(review, word_dict, maxlen):\n",
        "  encoded_review = []\n",
        "  for raw_word in review.split(' '):\n",
        "    word = raw_word.strip().strip(string.punctuation).lower()\n",
        "    if word is '' or word is '\\n':\n",
        "      continue\n",
        "    try:\n",
        "      encoded_review.append(word_dict[word])\n",
        "    except KeyError as e:\n",
        "      # raise KeyError(f'{e} not in word dictionary, review not encoded.')\n",
        "      continue\n",
        "  return pad_sequences(np.array(encoded_review).reshape(1,-1), maxlen=maxlen)\n",
        "\n",
        "def decode_review(encoded_review, inverse_word_dict):\n",
        "  sentence = []\n",
        "  for encoded_word in encoded_review:\n",
        "    if encoded_word == 0:\n",
        "      continue\n",
        "    sentence.append(inverse_word_dict[encoded_word])\n",
        "  w = textwrap.TextWrapper(width=120,break_long_words=False,replace_whitespace=False)\n",
        "  return '\\n'.join(w.wrap(' '.join(sentence)))\n",
        "\n",
        "# Print sample data\n",
        "for i in range(5):\n",
        "  print(decode_review(X_train[i], inverse_word_dict), end='\\n\\n')\n",
        "  print('Class Label: ', y_train[i], end='\\n\\n')"
      ],
      "execution_count": 23,
      "outputs": [
        {
          "output_type": "stream",
          "name": "stdout",
          "text": [
            "<START> mcgrath rentcorp said as a result of its december acquisition of space co it expects earnings per share in 1987\n",
            "of 1 15 to 1 30 dlrs per share up from 70 cts in 1986 the company said pretax net should rise to nine to 10 mln dlrs\n",
            "from six mln dlrs in 1986 and rental operation revenues to 19 to 22 mln dlrs from 12 5 mln dlrs it said cash flow per\n",
            "share this year should be 2 50 to three dlrs reuter 3\n",
            "\n",
            "Class Label:  3\n",
            "\n",
            "<START> generale de banque sa lt genb br and lt heller overseas corp of chicago have each taken 50 pct stakes in\n",
            "factoring company sa belgo factors generale de banque said in a statement it gave no financial details of the\n",
            "transaction sa belgo factors' turnover in 1986 was 17 5 billion belgian francs reuter 3\n",
            "\n",
            "Class Label:  4\n",
            "\n",
            "<START> shr 3 28 dlrs vs 22 cts shr diluted 2 99 dlrs vs 22 cts net 46 0 mln vs 3 328 000 avg shrs 14 0 mln vs 15 2 mln\n",
            "year shr 5 41 dlrs vs 1 56 dlrs shr diluted 4 94 dlrs vs 1 50 dlrs net 78 2 mln vs 25 9 mln avg shrs 14 5 mln vs 15 1\n",
            "mln note earnings per share reflect the two for one split effective january 6 1987 per share amounts are calculated\n",
            "after preferred stock dividends loss continuing operations for the qtr 1986 includes gains of sale of investments in\n",
            "enron corp of 14 mln dlrs and associated companies of 4 189 000 less writedowns of investments in national intergroup\n",
            "inc of 11 8 mln and brae corp of 15 6 mln reuter 3\n",
            "\n",
            "Class Label:  3\n",
            "\n",
            "<START> seton co said its board has received a proposal from chairman and chief executive officer philip d kaltenbacher\n",
            "to acquire seton for 15 75 dlrs per share in cash seton said the acquisition bid is subject to kaltenbacher arranging\n",
            "the necessary financing it said he intends to ask other members of senior management to participate the company said\n",
            "kaltenbacher owns 30 pct of seton stock and other management members another 7 5 pct seton said it has formed an\n",
            "independent board committee to consider the offer and has deferred the annual meeting it had scheduled for march 31\n",
            "reuter 3\n",
            "\n",
            "Class Label:  4\n",
            "\n",
            "<START> the u s agriculture department estimated canada's 1986 87 wheat crop at 31 85 mln tonnes vs 31 85 mln tonnes\n",
            "last month it estimated 1985 86 output at 24 25 mln tonnes vs 24 25 mln last month canadian 1986 87 coarse grain\n",
            "production is projected at 27 62 mln tonnes vs 27 62 mln tonnes last month production in 1985 86 is estimated at 24 95\n",
            "mln tonnes vs 24 95 mln last month canadian wheat exports in 1986 87 are forecast at 19 00 mln tonnes vs 18 00 mln\n",
            "tonnes last month exports in 1985 86 are estimated at 17 71 mln tonnes vs 17 72 mln last month reuter 3\n",
            "\n",
            "Class Label:  4\n",
            "\n"
          ]
        }
      ]
    },
    {
      "cell_type": "markdown",
      "metadata": {
        "id": "YarxnZSMgtrF"
      },
      "source": [
        "### Part b) Data Partitioning (5 points)\n",
        "\n",
        "Split data into train and test sets. Please use 80% for training and 20% for testing. Note that we want to have the same distribution of labels in the training and test set, so you can use stratified train-test split of Keras. See here: https://scikit-learn.org/stable/modules/generated/sklearn.model_selection.train_test_split.html"
      ]
    },
    {
      "cell_type": "code",
      "metadata": {
        "id": "dM3fOjNG0ybv"
      },
      "source": [
        "X_train, X_test, y_train, y_test = train_test_split(X_train, y_train, test_size=0.20, stratify=y_train)"
      ],
      "execution_count": 24,
      "outputs": []
    },
    {
      "cell_type": "markdown",
      "metadata": {
        "id": "Lp8HvntUTzwW"
      },
      "source": [
        "### Part c) Simple RNN Model (15 points)\n",
        "\n",
        "Create a model using an RNN layer (LSTM or GRU, unidirectional or bidirectional) and train it on your training data. You will also plot training and validation loss and your accuracy metric."
      ]
    },
    {
      "cell_type": "markdown",
      "metadata": {
        "id": "-L2aeGG9KS7w"
      },
      "source": [
        "Compile your model and display the summary:"
      ]
    },
    {
      "cell_type": "code",
      "metadata": {
        "id": "09k-v7zVzUXj",
        "colab": {
          "base_uri": "https://localhost:8080/"
        },
        "outputId": "47216fa4-9921-4c7f-d6ef-6c43d4e983b8"
      },
      "source": [
        "from tensorflow.keras.layers import Input, Dense, Embedding, LSTM, Dropout\n",
        "from tensorflow.keras.models import Model\n",
        "\n",
        "# Build your model\n",
        "input_layer = Input(shape=(max_sequence_len))\n",
        "x = Embedding(vocab_size, 64)(input_layer)\n",
        "x = LSTM(64)(x) \n",
        "x = Dense(64, activation='relu')(x)\n",
        "x = Dropout(0.5)(x)\n",
        "x = Dense(32, activation='relu')(x)\n",
        "x = Dropout(0.8)(x)\n",
        "\n",
        "reuters_model = Model(input_layer, x)\n",
        "\n",
        "loss = tf.keras.losses.BinaryCrossentropy()\n",
        "\n",
        "opt = tf.keras.optimizers.Adam(2e-4)\n",
        "\n",
        "metrics = ['accuracy']\n",
        "\n",
        "reuters_model.compile(loss=loss,\n",
        "              optimizer=opt,\n",
        "              metrics=metrics)\n",
        "\n",
        "reuters_model.summary()"
      ],
      "execution_count": 25,
      "outputs": [
        {
          "output_type": "stream",
          "name": "stdout",
          "text": [
            "Model: \"model\"\n",
            "_________________________________________________________________\n",
            " Layer (type)                Output Shape              Param #   \n",
            "=================================================================\n",
            " input_1 (InputLayer)        [(None, 200)]             0         \n",
            "                                                                 \n",
            " embedding (Embedding)       (None, 200, 64)           1982912   \n",
            "                                                                 \n",
            " lstm_2 (LSTM)               (None, 64)                33024     \n",
            "                                                                 \n",
            " dense_3 (Dense)             (None, 64)                4160      \n",
            "                                                                 \n",
            " dropout_2 (Dropout)         (None, 64)                0         \n",
            "                                                                 \n",
            " dense_4 (Dense)             (None, 32)                2080      \n",
            "                                                                 \n",
            " dropout_3 (Dropout)         (None, 32)                0         \n",
            "                                                                 \n",
            "=================================================================\n",
            "Total params: 2,022,176\n",
            "Trainable params: 2,022,176\n",
            "Non-trainable params: 0\n",
            "_________________________________________________________________\n"
          ]
        }
      ]
    },
    {
      "cell_type": "code",
      "metadata": {
        "id": "mthwaqCrzvM3",
        "colab": {
          "base_uri": "https://localhost:8080/"
        },
        "outputId": "577056de-a875-4dc0-880f-1803b9910438"
      },
      "source": [
        "batchsize = 256\n",
        "epochs =  10\n",
        "\n",
        "# Fit model\n",
        "history = reuters_model.fit(X_train, y_train, batch_size=batchsize, epochs=epochs, validation_split=0.2, shuffle=True)"
      ],
      "execution_count": 26,
      "outputs": [
        {
          "output_type": "stream",
          "name": "stdout",
          "text": [
            "Epoch 1/10\n",
            "23/23 [==============================] - 4s 74ms/step - loss: 110.2204 - accuracy: 0.0154 - val_loss: 54.9868 - val_accuracy: 0.0092\n",
            "Epoch 2/10\n",
            "23/23 [==============================] - 1s 44ms/step - loss: 106.9515 - accuracy: 0.0150 - val_loss: 44.0482 - val_accuracy: 0.0141\n",
            "Epoch 3/10\n",
            "23/23 [==============================] - 1s 44ms/step - loss: 105.6807 - accuracy: 0.0157 - val_loss: 37.5187 - val_accuracy: 0.0071\n",
            "Epoch 4/10\n",
            "23/23 [==============================] - 1s 43ms/step - loss: 104.2616 - accuracy: 0.0140 - val_loss: 33.2676 - val_accuracy: 0.0056\n",
            "Epoch 5/10\n",
            "23/23 [==============================] - 1s 44ms/step - loss: 103.6192 - accuracy: 0.0150 - val_loss: 31.3272 - val_accuracy: 0.0106\n",
            "Epoch 6/10\n",
            "23/23 [==============================] - 1s 43ms/step - loss: 102.7471 - accuracy: 0.0145 - val_loss: 30.0098 - val_accuracy: 0.0113\n",
            "Epoch 7/10\n",
            "23/23 [==============================] - 1s 43ms/step - loss: 102.3504 - accuracy: 0.0196 - val_loss: 29.1660 - val_accuracy: 0.0155\n",
            "Epoch 8/10\n",
            "23/23 [==============================] - 1s 43ms/step - loss: 102.2245 - accuracy: 0.0170 - val_loss: 28.4570 - val_accuracy: 0.0134\n",
            "Epoch 9/10\n",
            "23/23 [==============================] - 1s 44ms/step - loss: 101.8405 - accuracy: 0.0157 - val_loss: 28.1323 - val_accuracy: 0.0113\n",
            "Epoch 10/10\n",
            "23/23 [==============================] - 1s 43ms/step - loss: 102.1932 - accuracy: 0.0159 - val_loss: 27.4932 - val_accuracy: 0.0127\n"
          ]
        }
      ]
    },
    {
      "cell_type": "code",
      "metadata": {
        "id": "cBzaRs9hrQsh",
        "colab": {
          "base_uri": "https://localhost:8080/",
          "height": 573
        },
        "outputId": "7726e3c2-7f21-4feb-c9b7-13971deaa9b2"
      },
      "source": [
        "# Plot the Model loss\n",
        "plt.plot([x+1 for x in range(10)], history.history['loss'])\n",
        "plt.plot([x+1 for x in range(10)], history.history['val_loss'])\n",
        "plt.title('Model Loss')\n",
        "plt.ylabel('Loss')\n",
        "plt.xlabel('Epochs')\n",
        "plt.legend(['train', 'test'])\n",
        "plt.show()\n",
        "\n",
        "plt.plot([x+1 for x in range(10)], history.history['accuracy'])\n",
        "plt.plot([x+1 for x in range(10)], history.history['val_accuracy'])\n",
        "plt.title('Model Accuracy')\n",
        "plt.ylabel('Accuracy')\n",
        "plt.xlabel('Epochs')\n",
        "plt.legend(['train', 'test'])\n",
        "plt.ylim([0,1])\n",
        "plt.show()"
      ],
      "execution_count": 27,
      "outputs": [
        {
          "output_type": "display_data",
          "data": {
            "image/png": "[encoded data removed]",
            "text/plain": [
              "<Figure size 432x288 with 1 Axes>"
            ]
          },
          "metadata": {
            "needs_background": "light"
          }
        },
        {
          "output_type": "display_data",
          "data": {
            "image/png": "[encoded data removed]",
            "text/plain": [
              "<Figure size 432x288 with 1 Axes>"
            ]
          },
          "metadata": {
            "needs_background": "light"
          }
        }
      ]
    },
    {
      "cell_type": "markdown",
      "metadata": {
        "id": "-ONEJCKBa384"
      },
      "source": [
        "### Part d) More Advanced RNN Model (15 points)\n",
        "In this part you will create an RNN model with the number of layers and architerure you prefer. Train it on your training data. You will also plot training and validation loss and your metric. In this part, you can try different models and use different hyper-parameters and report only the best one."
      ]
    },
    {
      "cell_type": "markdown",
      "metadata": {
        "id": "ToO-cZbKa386"
      },
      "source": [
        "Compile your model and display the summary:"
      ]
    },
    {
      "cell_type": "code",
      "metadata": {
        "id": "FOo5_Rp6a386",
        "colab": {
          "base_uri": "https://localhost:8080/"
        },
        "outputId": "19592054-02f0-4028-8947-c6fbf31e79e0"
      },
      "source": [
        "# Build your model\n",
        "input_layer = Input(shape=(max_sequence_len))\n",
        "x = Embedding(vocab_size, 128)(input_layer)\n",
        "x = LSTM(128, activation=\"relu\")(x) \n",
        "x = Dense(128, activation='relu')(x)\n",
        "x = Dropout(0.5)(x)\n",
        "x = Dense(64, activation='relu')(x)\n",
        "x = Dropout(0.8)(x)\n",
        "x = Dense(46, activation='softmax')(x)\n",
        "\n",
        "model = Model(input_layer, x)\n",
        "\n",
        "loss = tf.keras.losses.SparseCategoricalCrossentropy()\n",
        "\n",
        "opt = tf.keras.optimizers.Adam()\n",
        "\n",
        "metrics = ['accuracy']\n",
        "\n",
        "model.compile(loss=loss,\n",
        "              optimizer=opt,\n",
        "              metrics=metrics)\n",
        "\n",
        "model.summary()"
      ],
      "execution_count": 29,
      "outputs": [
        {
          "output_type": "stream",
          "name": "stdout",
          "text": [
            "WARNING:tensorflow:Layer lstm_4 will not use cuDNN kernels since it doesn't meet the criteria. It will use a generic GPU kernel as fallback when running on GPU.\n",
            "Model: \"model_1\"\n",
            "_________________________________________________________________\n",
            " Layer (type)                Output Shape              Param #   \n",
            "=================================================================\n",
            " input_3 (InputLayer)        [(None, 200)]             0         \n",
            "                                                                 \n",
            " embedding_2 (Embedding)     (None, 200, 128)          3965824   \n",
            "                                                                 \n",
            " lstm_4 (LSTM)               (None, 128)               131584    \n",
            "                                                                 \n",
            " dense_5 (Dense)             (None, 128)               16512     \n",
            "                                                                 \n",
            " dropout_4 (Dropout)         (None, 128)               0         \n",
            "                                                                 \n",
            " dense_6 (Dense)             (None, 64)                8256      \n",
            "                                                                 \n",
            " dropout_5 (Dropout)         (None, 64)                0         \n",
            "                                                                 \n",
            " dense_7 (Dense)             (None, 46)                2990      \n",
            "                                                                 \n",
            "=================================================================\n",
            "Total params: 4,125,166\n",
            "Trainable params: 4,125,166\n",
            "Non-trainable params: 0\n",
            "_________________________________________________________________\n"
          ]
        }
      ]
    },
    {
      "cell_type": "code",
      "metadata": {
        "id": "80rNRrDva387",
        "colab": {
          "base_uri": "https://localhost:8080/"
        },
        "outputId": "6b736d41-c256-4764-baee-f0b0aaf69d56"
      },
      "source": [
        "batchsize = 256\n",
        "epochs =  10\n",
        "\n",
        "# Fit model\n",
        "history = model.fit(X_train, y_train, batch_size=batchsize, epochs=epochs, validation_split=0.2, shuffle=True)"
      ],
      "execution_count": 30,
      "outputs": [
        {
          "output_type": "stream",
          "name": "stdout",
          "text": [
            "Epoch 1/10\n",
            "23/23 [==============================] - 16s 632ms/step - loss: 3.7916 - accuracy: 0.0929 - val_loss: 3.7001 - val_accuracy: 0.0388\n",
            "Epoch 2/10\n",
            "23/23 [==============================] - 14s 622ms/step - loss: nan - accuracy: 0.2986 - val_loss: nan - val_accuracy: 0.0021\n",
            "Epoch 3/10\n",
            "23/23 [==============================] - 14s 613ms/step - loss: nan - accuracy: 0.0046 - val_loss: nan - val_accuracy: 0.0021\n",
            "Epoch 4/10\n",
            "23/23 [==============================] - 14s 613ms/step - loss: nan - accuracy: 0.0046 - val_loss: nan - val_accuracy: 0.0021\n",
            "Epoch 5/10\n",
            "23/23 [==============================] - 14s 624ms/step - loss: nan - accuracy: 0.0046 - val_loss: nan - val_accuracy: 0.0021\n",
            "Epoch 6/10\n",
            "23/23 [==============================] - 14s 627ms/step - loss: nan - accuracy: 0.0046 - val_loss: nan - val_accuracy: 0.0021\n",
            "Epoch 7/10\n",
            "23/23 [==============================] - 14s 626ms/step - loss: nan - accuracy: 0.0046 - val_loss: nan - val_accuracy: 0.0021\n",
            "Epoch 8/10\n",
            "23/23 [==============================] - 14s 607ms/step - loss: nan - accuracy: 0.0046 - val_loss: nan - val_accuracy: 0.0021\n",
            "Epoch 9/10\n",
            "23/23 [==============================] - 14s 627ms/step - loss: nan - accuracy: 0.0046 - val_loss: nan - val_accuracy: 0.0021\n",
            "Epoch 10/10\n",
            "23/23 [==============================] - 14s 628ms/step - loss: nan - accuracy: 0.0046 - val_loss: nan - val_accuracy: 0.0021\n"
          ]
        }
      ]
    },
    {
      "cell_type": "code",
      "metadata": {
        "id": "8B_BKjzda387",
        "colab": {
          "base_uri": "https://localhost:8080/",
          "height": 573
        },
        "outputId": "8fb8ebce-e2e5-4484-b094-71d476d1fbd6"
      },
      "source": [
        "# Plot the Model loss\n",
        "plt.plot([x+1 for x in range(10)], history.history['loss'])\n",
        "plt.plot([x+1 for x in range(10)], history.history['val_loss'])\n",
        "plt.title('Model Loss')\n",
        "plt.ylabel('Loss')\n",
        "plt.xlabel('Epochs')\n",
        "plt.legend(['train', 'test'])\n",
        "plt.show()\n",
        "\n",
        "plt.plot([x+1 for x in range(10)], history.history['accuracy'])\n",
        "plt.plot([x+1 for x in range(10)], history.history['val_accuracy'])\n",
        "plt.title('Model Accuracy')\n",
        "plt.ylabel('Accuracy')\n",
        "plt.xlabel('Epochs')\n",
        "plt.legend(['train', 'test'])\n",
        "plt.ylim([0,1])\n",
        "plt.show()"
      ],
      "execution_count": 31,
      "outputs": [
        {
          "output_type": "display_data",
          "data": {
            "image/png": "[encoded data removed]",
            "text/plain": [
              "<Figure size 432x288 with 1 Axes>"
            ]
          },
          "metadata": {
            "needs_background": "light"
          }
        },
        {
          "output_type": "display_data",
          "data": {
            "image/png": "[encoded data removed]",
            "text/plain": [
              "<Figure size 432x288 with 1 Axes>"
            ]
          },
          "metadata": {
            "needs_background": "light"
          }
        }
      ]
    },
    {
      "cell_type": "markdown",
      "metadata": {
        "id": "dc7BEuccYvit"
      },
      "source": [
        "### Part e) Looking at the Predictions (10 points)\n",
        "\n",
        "Now, Using the final (best) model you trained, show your model's performance on the test set.\n",
        "Calculate and display the prediction accuracy for all of the 46 different classes. "
      ]
    },
    {
      "cell_type": "code",
      "metadata": {
        "id": "PyCzORLJELij",
        "colab": {
          "base_uri": "https://localhost:8080/",
          "height": 235
        },
        "outputId": "1cbfe5ae-969a-4784-a591-84a01855f3a0"
      },
      "source": [
        "count = 0\n",
        "\n",
        "for i in y_test:\n",
        "  #print(y_pred[i], y_test[i])\n",
        "  if y_test[i] == y_pred[i]:\n",
        "    count = count + 1\n",
        "\n",
        "print(\"Classification Accuracy: \", count/(len(y_test)*100))\n"
      ],
      "execution_count": 33,
      "outputs": [
        {
          "output_type": "error",
          "ename": "NameError",
          "evalue": "ignored",
          "traceback": [
            "\u001b[0;31m---------------------------------------------------------------------------\u001b[0m",
            "\u001b[0;31mNameError\u001b[0m                                 Traceback (most recent call last)",
            "\u001b[0;32m<ipython-input-33-ec0d5aae4292>\u001b[0m in \u001b[0;36m<module>\u001b[0;34m()\u001b[0m\n\u001b[1;32m      3\u001b[0m \u001b[0;32mfor\u001b[0m \u001b[0mi\u001b[0m \u001b[0;32min\u001b[0m \u001b[0my_test\u001b[0m\u001b[0;34m:\u001b[0m\u001b[0;34m\u001b[0m\u001b[0;34m\u001b[0m\u001b[0m\n\u001b[1;32m      4\u001b[0m   \u001b[0;31m#print(y_pred[i], y_test[i])\u001b[0m\u001b[0;34m\u001b[0m\u001b[0;34m\u001b[0m\u001b[0;34m\u001b[0m\u001b[0m\n\u001b[0;32m----> 5\u001b[0;31m   \u001b[0;32mif\u001b[0m \u001b[0my_test\u001b[0m\u001b[0;34m[\u001b[0m\u001b[0mi\u001b[0m\u001b[0;34m]\u001b[0m \u001b[0;34m==\u001b[0m \u001b[0my_pred\u001b[0m\u001b[0;34m[\u001b[0m\u001b[0mi\u001b[0m\u001b[0;34m]\u001b[0m\u001b[0;34m:\u001b[0m\u001b[0;34m\u001b[0m\u001b[0;34m\u001b[0m\u001b[0m\n\u001b[0m\u001b[1;32m      6\u001b[0m     \u001b[0mcount\u001b[0m \u001b[0;34m=\u001b[0m \u001b[0mcount\u001b[0m \u001b[0;34m+\u001b[0m \u001b[0;36m1\u001b[0m\u001b[0;34m\u001b[0m\u001b[0;34m\u001b[0m\u001b[0m\n\u001b[1;32m      7\u001b[0m \u001b[0;34m\u001b[0m\u001b[0m\n",
            "\u001b[0;31mNameError\u001b[0m: name 'y_pred' is not defined"
          ]
        }
      ]
    }
  ]
}