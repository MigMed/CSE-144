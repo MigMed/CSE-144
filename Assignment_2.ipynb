{
  "nbformat": 4,
  "nbformat_minor": 0,
  "metadata": {
    "colab": {
      "name": "Copy of Assignment2.ipynb",
      "provenance": [],
      "collapsed_sections": [
        "dlHfuG_UYnfG",
        "Di8yHQU2Yukr",
        "CazISR8X_HUG",
        "vgC61-ah_WIz",
        "nG9NvytqOK7s",
        "YldeqJEoImZJ",
        "TD6Ixu2Welbe",
        "JEoRzxdUZEXE",
        "K-UjZojxjv5W",
        "Duo5OHehZYHG",
        "9hKsk6BrImZL",
        "lz031lPOZuDJ"
      ]
    },
    "kernelspec": {
      "display_name": "Python 3",
      "language": "python",
      "name": "python3"
    },
    "language_info": {
      "codemirror_mode": {
        "name": "ipython",
        "version": 3
      },
      "file_extension": ".py",
      "mimetype": "text/x-python",
      "name": "python",
      "nbconvert_exporter": "python",
      "pygments_lexer": "ipython3",
      "version": "3.8.5"
    }
  },
  "cells": [
    {
      "cell_type": "code",
      "metadata": {
        "id": "2IlwhV0z2nMr"
      },
      "source": [
        "%matplotlib inline"
      ],
      "execution_count": 1,
      "outputs": []
    },
    {
      "cell_type": "markdown",
      "metadata": {
        "id": "Chprzdhe2nMw"
      },
      "source": [
        "# Assignment 2\n",
        "\n",
        "**DUE: Sunday October 24 at 11:59pm**\n",
        "\n",
        "Turn in the assignment via Canvas.\n",
        "\n",
        "To write legible answers you will need to be familiar with both [Markdown](https://github.com/adam-p/markdown-here/wiki/Markdown-Cheatsheet) and [Latex](https://www.latex-tutorial.com/tutorials/amsmath/)\n",
        "\n",
        "Before you turn this problem in, make sure everything runs as expected. First, restart the kernel (in the menubar, select Runtime→→Restart runtime) and then run all cells (in the menubar, select Runtime→→Run All).\n",
        "\n",
        "Make sure you fill in any place that says \"YOUR CODE HERE\" or \"YOUR ANSWER HERE\", as well as your name below:"
      ]
    },
    {
      "cell_type": "code",
      "metadata": {
        "id": "8jeWubXE2nMx"
      },
      "source": [
        "NAME = 'Miguel Medina'\n",
        "STUDENT_ID = '1384909'"
      ],
      "execution_count": 2,
      "outputs": []
    },
    {
      "cell_type": "markdown",
      "metadata": {
        "id": "ozDglVovkHJJ"
      },
      "source": [
        "## Problem 1 - Yield Dataset with Polynomial Regression"
      ]
    },
    {
      "cell_type": "code",
      "metadata": {
        "id": "7qm6WAqNPRRu"
      },
      "source": [
        "import numpy as np\n",
        "import matplotlib.pyplot as plt\n",
        "import pandas as pd\n",
        "import seaborn as sns"
      ],
      "execution_count": 3,
      "outputs": []
    },
    {
      "cell_type": "markdown",
      "metadata": {
        "id": "q20rkd3LlkHs"
      },
      "source": [
        "This dataset of size $n = 15$ contains measurements of yield from an experiment done at five different temperature levels. The variables are $y = yield$ and $x = temperature$ in degrees Fahrenheit. Download the data from PyDrive."
      ]
    },
    {
      "cell_type": "code",
      "metadata": {
        "id": "oyKWchKWIvPi"
      },
      "source": [
        "!pip install -U -q PyDrive\n",
        "from pydrive.auth import GoogleAuth\n",
        "from pydrive.drive import GoogleDrive\n",
        "from google.colab import auth\n",
        "from oauth2client.client import GoogleCredentials"
      ],
      "execution_count": 4,
      "outputs": []
    },
    {
      "cell_type": "code",
      "metadata": {
        "id": "UwexIqp8I_lF"
      },
      "source": [
        "auth.authenticate_user()\n",
        "gauth = GoogleAuth()\n",
        "gauth.credentials = GoogleCredentials.get_application_default()\n",
        "drive = GoogleDrive(gauth)"
      ],
      "execution_count": 5,
      "outputs": []
    },
    {
      "cell_type": "code",
      "metadata": {
        "id": "dLF5xucumaai"
      },
      "source": [
        "downloaded = drive.CreateFile({'id':\"1snU4nKrW72fgaEYzWvnrK0iRhsVX2W7N\"})\n",
        "downloaded.GetContentFile('yield.csv')  "
      ],
      "execution_count": 6,
      "outputs": []
    },
    {
      "cell_type": "code",
      "metadata": {
        "id": "kpxch0eIm2D3"
      },
      "source": [
        "# Create pandas dataframe\n",
        "data = pd.read_csv('yield.csv')"
      ],
      "execution_count": 7,
      "outputs": []
    },
    {
      "cell_type": "code",
      "metadata": {
        "id": "wEGGgoy6nD4w",
        "colab": {
          "base_uri": "https://localhost:8080/",
          "height": 514
        },
        "outputId": "c004275e-df40-4926-9503-98975ea6bb8e"
      },
      "source": [
        "# Let's look at the data\n",
        "data"
      ],
      "execution_count": 8,
      "outputs": [
        {
          "output_type": "execute_result",
          "data": {
            "text/html": [
              "<div>\n",
              "<style scoped>\n",
              "    .dataframe tbody tr th:only-of-type {\n",
              "        vertical-align: middle;\n",
              "    }\n",
              "\n",
              "    .dataframe tbody tr th {\n",
              "        vertical-align: top;\n",
              "    }\n",
              "\n",
              "    .dataframe thead th {\n",
              "        text-align: right;\n",
              "    }\n",
              "</style>\n",
              "<table border=\"1\" class=\"dataframe\">\n",
              "  <thead>\n",
              "    <tr style=\"text-align: right;\">\n",
              "      <th></th>\n",
              "      <th>Temp</th>\n",
              "      <th>Yield</th>\n",
              "    </tr>\n",
              "  </thead>\n",
              "  <tbody>\n",
              "    <tr>\n",
              "      <th>0</th>\n",
              "      <td>50</td>\n",
              "      <td>3.3</td>\n",
              "    </tr>\n",
              "    <tr>\n",
              "      <th>1</th>\n",
              "      <td>50</td>\n",
              "      <td>2.8</td>\n",
              "    </tr>\n",
              "    <tr>\n",
              "      <th>2</th>\n",
              "      <td>50</td>\n",
              "      <td>2.9</td>\n",
              "    </tr>\n",
              "    <tr>\n",
              "      <th>3</th>\n",
              "      <td>70</td>\n",
              "      <td>2.3</td>\n",
              "    </tr>\n",
              "    <tr>\n",
              "      <th>4</th>\n",
              "      <td>70</td>\n",
              "      <td>2.6</td>\n",
              "    </tr>\n",
              "    <tr>\n",
              "      <th>5</th>\n",
              "      <td>70</td>\n",
              "      <td>2.1</td>\n",
              "    </tr>\n",
              "    <tr>\n",
              "      <th>6</th>\n",
              "      <td>80</td>\n",
              "      <td>2.5</td>\n",
              "    </tr>\n",
              "    <tr>\n",
              "      <th>7</th>\n",
              "      <td>80</td>\n",
              "      <td>2.9</td>\n",
              "    </tr>\n",
              "    <tr>\n",
              "      <th>8</th>\n",
              "      <td>80</td>\n",
              "      <td>2.4</td>\n",
              "    </tr>\n",
              "    <tr>\n",
              "      <th>9</th>\n",
              "      <td>90</td>\n",
              "      <td>3.0</td>\n",
              "    </tr>\n",
              "    <tr>\n",
              "      <th>10</th>\n",
              "      <td>90</td>\n",
              "      <td>3.1</td>\n",
              "    </tr>\n",
              "    <tr>\n",
              "      <th>11</th>\n",
              "      <td>90</td>\n",
              "      <td>2.8</td>\n",
              "    </tr>\n",
              "    <tr>\n",
              "      <th>12</th>\n",
              "      <td>100</td>\n",
              "      <td>3.3</td>\n",
              "    </tr>\n",
              "    <tr>\n",
              "      <th>13</th>\n",
              "      <td>100</td>\n",
              "      <td>3.5</td>\n",
              "    </tr>\n",
              "    <tr>\n",
              "      <th>14</th>\n",
              "      <td>100</td>\n",
              "      <td>3.0</td>\n",
              "    </tr>\n",
              "  </tbody>\n",
              "</table>\n",
              "</div>"
            ],
            "text/plain": [
              "    Temp  Yield\n",
              "0     50    3.3\n",
              "1     50    2.8\n",
              "2     50    2.9\n",
              "3     70    2.3\n",
              "4     70    2.6\n",
              "5     70    2.1\n",
              "6     80    2.5\n",
              "7     80    2.9\n",
              "8     80    2.4\n",
              "9     90    3.0\n",
              "10    90    3.1\n",
              "11    90    2.8\n",
              "12   100    3.3\n",
              "13   100    3.5\n",
              "14   100    3.0"
            ]
          },
          "metadata": {},
          "execution_count": 8
        }
      ]
    },
    {
      "cell_type": "code",
      "metadata": {
        "id": "u1E3XKXgnIqq",
        "colab": {
          "base_uri": "https://localhost:8080/",
          "height": 297
        },
        "outputId": "5582f3b3-6278-4c65-b4cd-4e1bcb16d882"
      },
      "source": [
        "# Look at data description\n",
        "data.describe()"
      ],
      "execution_count": 9,
      "outputs": [
        {
          "output_type": "execute_result",
          "data": {
            "text/html": [
              "<div>\n",
              "<style scoped>\n",
              "    .dataframe tbody tr th:only-of-type {\n",
              "        vertical-align: middle;\n",
              "    }\n",
              "\n",
              "    .dataframe tbody tr th {\n",
              "        vertical-align: top;\n",
              "    }\n",
              "\n",
              "    .dataframe thead th {\n",
              "        text-align: right;\n",
              "    }\n",
              "</style>\n",
              "<table border=\"1\" class=\"dataframe\">\n",
              "  <thead>\n",
              "    <tr style=\"text-align: right;\">\n",
              "      <th></th>\n",
              "      <th>Temp</th>\n",
              "      <th>Yield</th>\n",
              "    </tr>\n",
              "  </thead>\n",
              "  <tbody>\n",
              "    <tr>\n",
              "      <th>count</th>\n",
              "      <td>15.000000</td>\n",
              "      <td>15.000000</td>\n",
              "    </tr>\n",
              "    <tr>\n",
              "      <th>mean</th>\n",
              "      <td>78.000000</td>\n",
              "      <td>2.833333</td>\n",
              "    </tr>\n",
              "    <tr>\n",
              "      <th>std</th>\n",
              "      <td>17.808505</td>\n",
              "      <td>0.395811</td>\n",
              "    </tr>\n",
              "    <tr>\n",
              "      <th>min</th>\n",
              "      <td>50.000000</td>\n",
              "      <td>2.100000</td>\n",
              "    </tr>\n",
              "    <tr>\n",
              "      <th>25%</th>\n",
              "      <td>70.000000</td>\n",
              "      <td>2.550000</td>\n",
              "    </tr>\n",
              "    <tr>\n",
              "      <th>50%</th>\n",
              "      <td>80.000000</td>\n",
              "      <td>2.900000</td>\n",
              "    </tr>\n",
              "    <tr>\n",
              "      <th>75%</th>\n",
              "      <td>90.000000</td>\n",
              "      <td>3.050000</td>\n",
              "    </tr>\n",
              "    <tr>\n",
              "      <th>max</th>\n",
              "      <td>100.000000</td>\n",
              "      <td>3.500000</td>\n",
              "    </tr>\n",
              "  </tbody>\n",
              "</table>\n",
              "</div>"
            ],
            "text/plain": [
              "             Temp      Yield\n",
              "count   15.000000  15.000000\n",
              "mean    78.000000   2.833333\n",
              "std     17.808505   0.395811\n",
              "min     50.000000   2.100000\n",
              "25%     70.000000   2.550000\n",
              "50%     80.000000   2.900000\n",
              "75%     90.000000   3.050000\n",
              "max    100.000000   3.500000"
            ]
          },
          "metadata": {},
          "execution_count": 9
        }
      ]
    },
    {
      "cell_type": "code",
      "metadata": {
        "id": "_CZhvRnRogIL"
      },
      "source": [
        "# Split data in X and y using pandas functionality.\n",
        "X = data.iloc[:,0] # Create vector of explanatory variables\n",
        "y = data.iloc[:,1] # Create vector of target variables\n",
        "\n",
        "# Cast dataframes into numpy arrays\n",
        "X = X.values\n",
        "y = y.values\n",
        "\n",
        "# Split data into X_train, Y_train, X_test y_test using sklearn\n",
        "from sklearn.model_selection import train_test_split\n",
        "X_train, X_test, y_train, y_test = train_test_split(X, y, test_size = 0.30, random_state = 0)\n",
        "\n",
        "# Reshape X_train, X_test for sklearn LinearRegression\n",
        "X_train = X_train.reshape(-1,1)\n",
        "X_test = X_test.reshape(-1,1)"
      ],
      "execution_count": 10,
      "outputs": []
    },
    {
      "cell_type": "markdown",
      "metadata": {
        "id": "P-6uuoH9m31F"
      },
      "source": [
        "### a) Linear Regression (10 points)"
      ]
    },
    {
      "cell_type": "markdown",
      "metadata": {
        "id": "cO7NdJ0YnNfi"
      },
      "source": [
        "We will run a simple linear regression on this well-curated dataset using sklearn's **LinearRegression**.\n",
        "\n",
        "Hint: Review the sklearn docs https://scikit-learn.org/stable/modules/generated/sklearn.linear_model.LinearRegression.html and class exercise."
      ]
    },
    {
      "cell_type": "code",
      "metadata": {
        "id": "dvZTcsNzpZXq",
        "colab": {
          "base_uri": "https://localhost:8080/"
        },
        "outputId": "d6b4a323-e44b-47e6-c193-6ab87b81fdf0"
      },
      "source": [
        "from sklearn.linear_model import LinearRegression\n",
        "# Instantiate LinearRegression\n",
        "regressor = LinearRegression()\n",
        "\n",
        "# Fit the regressor using X_train and y_train\n",
        "regressor.fit(X_train, y_train)"
      ],
      "execution_count": 11,
      "outputs": [
        {
          "output_type": "execute_result",
          "data": {
            "text/plain": [
              "LinearRegression(copy_X=True, fit_intercept=True, n_jobs=None, normalize=False)"
            ]
          },
          "metadata": {},
          "execution_count": 11
        }
      ]
    },
    {
      "cell_type": "markdown",
      "metadata": {
        "id": "YEUvILxltp1o"
      },
      "source": [
        "Let's now visually inspect the model and see how well this model predicts the yield. \n",
        "* First, plot the yield vs. temperature points from training set in black.\n",
        "* Then, plot the regression line in red. Predictions from the regression model lie along the red line."
      ]
    },
    {
      "cell_type": "code",
      "metadata": {
        "id": "qkaRSeQxs00h",
        "colab": {
          "base_uri": "https://localhost:8080/",
          "height": 282
        },
        "outputId": "ac68a6ca-b77f-4435-a55c-0a6c7d7e36d0"
      },
      "source": [
        "# Plot the actual yield (y_train) vs. temperature values from training set\n",
        "plt.scatter(X_train, y_train, color='black')\n",
        "\n",
        "# Plot the regression line\n",
        "y_pred = regressor.predict(X_train)\n",
        "plt.plot(X_train, y_pred, color='red', linewidth=3)\n"
      ],
      "execution_count": 12,
      "outputs": [
        {
          "output_type": "execute_result",
          "data": {
            "text/plain": [
              "[<matplotlib.lines.Line2D at 0x7fafc2210c50>]"
            ]
          },
          "metadata": {},
          "execution_count": 12
        },
        {
          "output_type": "display_data",
          "data": {
            "image/png": "[encoded data removed]",
            "text/plain": [
              "<Figure size 432x288 with 1 Axes>"
            ]
          },
          "metadata": {
            "needs_background": "light"
          }
        }
      ]
    },
    {
      "cell_type": "markdown",
      "metadata": {
        "id": "VDEu6LcfuLG4"
      },
      "source": [
        "Let's also visually inspect the prediction results from the test set.\n",
        "* First, plot the yield vs. temperature points from the test set in black\n",
        "* Then plot the regression line in red to see how prediction is similar to or different from the actual target."
      ]
    },
    {
      "cell_type": "code",
      "metadata": {
        "id": "pNppCKKTrHtW",
        "colab": {
          "base_uri": "https://localhost:8080/",
          "height": 284
        },
        "outputId": "75252b30-9a61-4bc8-ffc4-710990df43d1"
      },
      "source": [
        "# Plot the actual yield (y_test) vs. temperature values  for the test set\n",
        "plt.scatter(X_test, y_test, color='black')\n",
        "\n",
        "# Plot the regression line\n",
        "y_pred = regressor.predict(X_test)\n",
        "plt.plot(X_test, y_pred, color='red', linewidth=3)"
      ],
      "execution_count": 13,
      "outputs": [
        {
          "output_type": "execute_result",
          "data": {
            "text/plain": [
              "[<matplotlib.lines.Line2D at 0x7fafc1cffe90>]"
            ]
          },
          "metadata": {},
          "execution_count": 13
        },
        {
          "output_type": "display_data",
          "data": {
            "image/png": "[encoded data removed]",
            "text/plain": [
              "<Figure size 432x288 with 1 Axes>"
            ]
          },
          "metadata": {
            "needs_background": "light"
          }
        }
      ]
    },
    {
      "cell_type": "markdown",
      "metadata": {
        "id": "dlHfuG_UYnfG"
      },
      "source": [
        "### b) Inspecting Linear Regression Model (5 points)"
      ]
    },
    {
      "cell_type": "markdown",
      "metadata": {
        "id": "nNWLywqeuzR9"
      },
      "source": [
        "After inspecting the results visually, does this model appear to be a good or bad fit on the test set and training set? "
      ]
    },
    {
      "cell_type": "markdown",
      "metadata": {
        "id": "og-QtiEOvKgn"
      },
      "source": [
        "I think this model is a bad fit. The regression line doesn't get even remotely close to some of the points in both the test and training set. I think it does a little better of a job in the test data, but even then it's pretty bad. "
      ]
    },
    {
      "cell_type": "markdown",
      "metadata": {
        "id": "OrI7XG0qP0aW"
      },
      "source": [
        "Does the model display signs of underfitting? If so, why?"
      ]
    },
    {
      "cell_type": "markdown",
      "metadata": {
        "id": "1z9GhfWcP_eO"
      },
      "source": [
        "The model does display signs of underfitting. It displays these signs with how high the amount of error there is in both the training and the test data. "
      ]
    },
    {
      "cell_type": "markdown",
      "metadata": {
        "id": "UfmMI_k5vZLx"
      },
      "source": [
        "### c) Polynomial Regression (10 points)"
      ]
    },
    {
      "cell_type": "markdown",
      "metadata": {
        "id": "-OVJMeKAyb2J"
      },
      "source": [
        "Data may not follow a linear relationship from the independent variable $X$ to the dependent variable $y$. Fitting a linear model to this would be inaccurate and yield a high loss. \n",
        "\n",
        "If we want to model an order $d$ polynomial relationship between $X$ and $y$ we can augment our initial linear model where instead of having:\n",
        "$$\n",
        "y^{(i)} = \\theta_0 + \\theta_1 x^{(i)}\n",
        "$$\n",
        "\n",
        "We have:\n",
        "\n",
        "$$\n",
        "y^{(i)} = \\theta_0 + \\theta_1 x^{(i)} + \\theta_2 {x^{(i)}}^2 + \\cdots + \\theta_d {x^{(i)}}^d\n",
        "$$\n",
        "\n",
        "We can use the same linear regression algorithm we if we first augment $X$ and add extra columns (or dimensions). \n",
        "\n",
        "$$ \\textbf X =\n",
        "\\begin{bmatrix}\n",
        "    x^{(1)}       & {x^{(1)}}^2 & \\cdots & {x^{(1)}}^d \\\\\n",
        "    x^{(2)}       & {x^{(2)}}^2 & \\cdots & {x^{(2)}}^d \\\\\n",
        "    \\vdots       & \\vdots & \\ddots & \\vdots \\\\\n",
        "    x^{(n)}       & {x^{(n)}}^2 & \\cdots & {x^{(n)}}^d\n",
        "\\end{bmatrix}$$\n",
        "\n",
        "Then our new higher order $\\hat Y$ is computed same as before.\n",
        "\n",
        "$$ \\hat Y =  X \\theta =\n",
        "\\begin{bmatrix}\n",
        "    1 & x^{(1)}       & {x^{(1)}}^2 & \\cdots & {x^{(1)}}^d \\\\\n",
        "    1 & x^{(2)}       & {x^{(2)}}^2 & \\cdots & {x^{(2)}}^d \\\\\n",
        "    \\vdots & \\vdots       & \\vdots & \\ddots & \\vdots \\\\\n",
        "    1 & x^{(n)}       & {x^{(n)}}^2 & \\cdots & {x^{(n)}}^d\n",
        "\\end{bmatrix}\n",
        "\\begin{bmatrix}\\theta_0 \\\\ \\theta_1 \\\\ \\vdots \\\\ \\theta_{d} \n",
        "\\end{bmatrix}=\n",
        "\\begin{bmatrix}\n",
        "    \\theta_0 + \\theta_1 x^{(1)} + \\theta_2 {x^{(1)}}^2 + \\cdots + \\theta_{d}  {x^{(1)}}^d \\\\\n",
        "    \\theta_0 + \\theta_1 x^{(2)} + \\theta_2 {x^{(2)}}^2 + \\cdots + \\theta_{d}  {x^{(2)}}^d  \\\\\n",
        "    \\vdots   \\\\\n",
        "    \\theta_0 + \\theta_1 x^{(n)} + \\theta_2 {x^{(n)}}^2 + \\cdots + \\theta_{d}  {x^{(n)}}^d\n",
        "\\end{bmatrix} \n",
        "= \\begin{bmatrix}\\hat y^{(1)} \\\\ \\hat y^{(2)} \\\\ \\vdots \\\\ \\hat y^{(n)} \n",
        "\\end{bmatrix}$$"
      ]
    },
    {
      "cell_type": "markdown",
      "metadata": {
        "id": "GEgFFYh9vppr"
      },
      "source": [
        "Using sklearn's **PolynomialFeatures** functionality, we will now transform X_train and X_test into second order polynomial space.\n",
        "\n",
        "For more info: https://scikit-learn.org/stable/modules/generated/sklearn.preprocessing.PolynomialFeatures.html"
      ]
    },
    {
      "cell_type": "code",
      "metadata": {
        "id": "KTMHoLIxw61l",
        "colab": {
          "base_uri": "https://localhost:8080/"
        },
        "outputId": "eacfdb12-38a4-4a7d-985c-aa981b751b45"
      },
      "source": [
        "# First, lets look at the values of X_train\n",
        "print(X_train)"
      ],
      "execution_count": 14,
      "outputs": [
        {
          "output_type": "stream",
          "name": "stdout",
          "text": [
            "[[ 70]\n",
            " [ 50]\n",
            " [100]\n",
            " [ 90]\n",
            " [ 80]\n",
            " [ 90]\n",
            " [ 70]\n",
            " [ 50]\n",
            " [ 70]\n",
            " [100]]\n"
          ]
        }
      ]
    },
    {
      "cell_type": "code",
      "metadata": {
        "id": "kPEUwbX0wN5-",
        "colab": {
          "base_uri": "https://localhost:8080/"
        },
        "outputId": "4faf1b07-d4d7-4b80-dbb5-48a56fc52a66"
      },
      "source": [
        "from sklearn.preprocessing import PolynomialFeatures\n",
        "\n",
        "# Creates polynomial transform of degree 2\n",
        "poly = PolynomialFeatures(2)\n",
        "\n",
        "# Transform X_train X_test\n",
        "X_train_pol = poly.fit_transform(X_train)\n",
        "X_test_pol = poly.fit_transform(X_test)\n",
        "\n",
        "# Print X_train_pol\n",
        "print(X_train_pol)\n"
      ],
      "execution_count": 15,
      "outputs": [
        {
          "output_type": "stream",
          "name": "stdout",
          "text": [
            "[[1.0e+00 7.0e+01 4.9e+03]\n",
            " [1.0e+00 5.0e+01 2.5e+03]\n",
            " [1.0e+00 1.0e+02 1.0e+04]\n",
            " [1.0e+00 9.0e+01 8.1e+03]\n",
            " [1.0e+00 8.0e+01 6.4e+03]\n",
            " [1.0e+00 9.0e+01 8.1e+03]\n",
            " [1.0e+00 7.0e+01 4.9e+03]\n",
            " [1.0e+00 5.0e+01 2.5e+03]\n",
            " [1.0e+00 7.0e+01 4.9e+03]\n",
            " [1.0e+00 1.0e+02 1.0e+04]]\n"
          ]
        }
      ]
    },
    {
      "cell_type": "markdown",
      "metadata": {
        "id": "FByoPNOWxK_o"
      },
      "source": [
        "We can now fit a second degree polynomial regression model to the transformed data."
      ]
    },
    {
      "cell_type": "code",
      "metadata": {
        "id": "z2nbImhTzHDV",
        "colab": {
          "base_uri": "https://localhost:8080/"
        },
        "outputId": "80398cf9-012a-403a-eb49-cdc3dbdabe05"
      },
      "source": [
        "from sklearn.linear_model import LinearRegression\n",
        "# Instantiate LinearRegression\n",
        "regressor = LinearRegression()\n",
        "\n",
        "# Fit the regressor using X_train_pol and y_train\n",
        "regressor.fit(X_train_pol, y_train)"
      ],
      "execution_count": 16,
      "outputs": [
        {
          "output_type": "execute_result",
          "data": {
            "text/plain": [
              "LinearRegression(copy_X=True, fit_intercept=True, n_jobs=None, normalize=False)"
            ]
          },
          "metadata": {},
          "execution_count": 16
        }
      ]
    },
    {
      "cell_type": "markdown",
      "metadata": {
        "id": "P2mFEIoB0IdM"
      },
      "source": [
        "Now, visually inspect the polynomial regression model and see how well this model predicts the yield on the training set. \n",
        "\n",
        "Plot the yield vs. temperature points in black along with the polynomial regression line in red. Hint: For plotting the regression line, you can use the plot function to interpolate the regression line based on the model's prediction on data points."
      ]
    },
    {
      "cell_type": "code",
      "metadata": {
        "id": "nZ3TpGZ30IdN",
        "colab": {
          "base_uri": "https://localhost:8080/",
          "height": 282
        },
        "outputId": "6d7c4fe8-8171-445c-80b7-9be3bb9c31cc"
      },
      "source": [
        "# Plot the actual yield (y_train) vs temp. values from training set\n",
        "plt.scatter(X_train, y_train, color='black')\n",
        "\n",
        "# Plot the regression line\n",
        "X_train_pol.sort(axis=0)\n",
        "y_pred = regressor.predict(X_train_pol)\n",
        "X_train.sort(axis=0)\n",
        "plt.plot(X_train, y_pred, color='red', linewidth=3)"
      ],
      "execution_count": 17,
      "outputs": [
        {
          "output_type": "execute_result",
          "data": {
            "text/plain": [
              "[<matplotlib.lines.Line2D at 0x7fafc1c8de50>]"
            ]
          },
          "metadata": {},
          "execution_count": 17
        },
        {
          "output_type": "display_data",
          "data": {
            "image/png": "[encoded data removed]",
            "text/plain": [
              "<Figure size 432x288 with 1 Axes>"
            ]
          },
          "metadata": {
            "needs_background": "light"
          }
        }
      ]
    },
    {
      "cell_type": "markdown",
      "metadata": {
        "id": "eiN6blfA0zsr"
      },
      "source": [
        "Lastly, let's plot the test set yield vs. temperature points along with the polynomial regression line."
      ]
    },
    {
      "cell_type": "code",
      "metadata": {
        "id": "3fcQtM8g00_z",
        "colab": {
          "base_uri": "https://localhost:8080/",
          "height": 282
        },
        "outputId": "b2fb8f8e-f7c4-46d7-acba-bbe0a7ff4c40"
      },
      "source": [
        "# Plot the actual yield (y_test) vs temp. values from test set\n",
        "plt.scatter(X_test, y_test, color='black')\n",
        "\n",
        "# Plot the regression line\n",
        "y_pred = regressor.predict(X_test_pol)\n",
        "plt.plot(X_test, y_pred, color='red', linewidth=3)"
      ],
      "execution_count": 18,
      "outputs": [
        {
          "output_type": "execute_result",
          "data": {
            "text/plain": [
              "[<matplotlib.lines.Line2D at 0x7fafc1bfcf10>]"
            ]
          },
          "metadata": {},
          "execution_count": 18
        },
        {
          "output_type": "display_data",
          "data": {
            "image/png": "[encoded data removed]",
            "text/plain": [
              "<Figure size 432x288 with 1 Axes>"
            ]
          },
          "metadata": {
            "needs_background": "light"
          }
        }
      ]
    },
    {
      "cell_type": "markdown",
      "metadata": {
        "id": "Di8yHQU2Yukr"
      },
      "source": [
        "### d) Inpsecting Polynomial Regression Model (5 points)"
      ]
    },
    {
      "cell_type": "markdown",
      "metadata": {
        "id": "czHSwZxX-WfG"
      },
      "source": [
        "After inspecting the polynomial regression model, does the model appear to be a better fit than simple linear regression? "
      ]
    },
    {
      "cell_type": "markdown",
      "metadata": {
        "id": "nEXJnHhG-pJ-"
      },
      "source": [
        "Yes, the model fits better than the simple regression. It now takes into account the dip that happens at between 70 - 80 temp. "
      ]
    },
    {
      "cell_type": "markdown",
      "metadata": {
        "id": "1_-ZNVBuQJ0X"
      },
      "source": [
        "Does the model address display more or less underfitting than the simple linear regression model and why?"
      ]
    },
    {
      "cell_type": "markdown",
      "metadata": {
        "id": "dLeDdBynQO0Y"
      },
      "source": [
        "The model displays less underfitting than the simple linear regression. All of the plotted points now lie much closer to the prediction line. This is true for both the test data and the training data. "
      ]
    },
    {
      "cell_type": "markdown",
      "metadata": {
        "id": "CazISR8X_HUG"
      },
      "source": [
        "## Problem 2 - Fish Dataset"
      ]
    },
    {
      "cell_type": "markdown",
      "metadata": {
        "id": "vgC61-ah_WIz"
      },
      "source": [
        "## Importing the Dataset"
      ]
    },
    {
      "cell_type": "markdown",
      "metadata": {
        "id": "QlPD4uh5ImZE"
      },
      "source": [
        "We will now perform different variations of linear regression to predict fish weight given species type, weight, and physical measurements. The different attributes of the data are:\n",
        "\n",
        "- Species: species name of fish\n",
        "\n",
        "- Weight: weight of fish in Gram (g)\n",
        "\n",
        "- Length1: vertical length in (cm)\n",
        "\n",
        "- Length2: diagonal length in (cm)\n",
        "\n",
        "- Length3: cross length in (cm)\n",
        "\n",
        "- Height: height in (cm)\n",
        "\n",
        "- Width: diagonal width in (cm)\n",
        "\n",
        "Begin by downloading the Fish.csv file from google drive. Make sure to select your @ucsc.edu email when authorizing access to your account. "
      ]
    },
    {
      "cell_type": "code",
      "metadata": {
        "id": "RMy-21iKABVc"
      },
      "source": [
        "!pip install -U -q PyDrive\n",
        "from pydrive.auth import GoogleAuth\n",
        "from pydrive.drive import GoogleDrive\n",
        "from google.colab import auth\n",
        "from oauth2client.client import GoogleCredentials"
      ],
      "execution_count": 19,
      "outputs": []
    },
    {
      "cell_type": "code",
      "metadata": {
        "id": "BTvM0_JzABVc"
      },
      "source": [
        "auth.authenticate_user()\n",
        "gauth = GoogleAuth()\n",
        "gauth.credentials = GoogleCredentials.get_application_default()\n",
        "drive = GoogleDrive(gauth)"
      ],
      "execution_count": 20,
      "outputs": []
    },
    {
      "cell_type": "code",
      "metadata": {
        "id": "NLDSqS7_JD0j"
      },
      "source": [
        "# Download the Fish data\n",
        "downloaded = drive.CreateFile({'id':\"1AtMi-xCejVlhYS5qjgjjW4gH-TLuWJjC\"})\n",
        "downloaded.GetContentFile('Fish.csv')  "
      ],
      "execution_count": 21,
      "outputs": []
    },
    {
      "cell_type": "code",
      "metadata": {
        "id": "lWS9rMQjImZF"
      },
      "source": [
        "import pandas as pd\n",
        "\n",
        "# Create pandas dataframe\n",
        "fish_data = pd.read_csv('Fish.csv')"
      ],
      "execution_count": 22,
      "outputs": []
    },
    {
      "cell_type": "markdown",
      "metadata": {
        "id": "tdr40HJxNb8Q"
      },
      "source": [
        "Let's look at some of the data and check some of the dataset descriptors."
      ]
    },
    {
      "cell_type": "code",
      "metadata": {
        "id": "L7jhsbgiNiWu",
        "colab": {
          "base_uri": "https://localhost:8080/",
          "height": 0
        },
        "outputId": "8c1769b6-d876-454a-f093-ac5cb733aef8"
      },
      "source": [
        "# Let's print out the first few rows\n",
        "fish_data.head()"
      ],
      "execution_count": 23,
      "outputs": [
        {
          "output_type": "execute_result",
          "data": {
            "text/html": [
              "<div>\n",
              "<style scoped>\n",
              "    .dataframe tbody tr th:only-of-type {\n",
              "        vertical-align: middle;\n",
              "    }\n",
              "\n",
              "    .dataframe tbody tr th {\n",
              "        vertical-align: top;\n",
              "    }\n",
              "\n",
              "    .dataframe thead th {\n",
              "        text-align: right;\n",
              "    }\n",
              "</style>\n",
              "<table border=\"1\" class=\"dataframe\">\n",
              "  <thead>\n",
              "    <tr style=\"text-align: right;\">\n",
              "      <th></th>\n",
              "      <th>Species</th>\n",
              "      <th>Weight</th>\n",
              "      <th>Length1</th>\n",
              "      <th>Length2</th>\n",
              "      <th>Length3</th>\n",
              "      <th>Height</th>\n",
              "      <th>Width</th>\n",
              "    </tr>\n",
              "  </thead>\n",
              "  <tbody>\n",
              "    <tr>\n",
              "      <th>0</th>\n",
              "      <td>Bream</td>\n",
              "      <td>242.0</td>\n",
              "      <td>23.2</td>\n",
              "      <td>25.4</td>\n",
              "      <td>30.0</td>\n",
              "      <td>11.5200</td>\n",
              "      <td>4.0200</td>\n",
              "    </tr>\n",
              "    <tr>\n",
              "      <th>1</th>\n",
              "      <td>Bream</td>\n",
              "      <td>290.0</td>\n",
              "      <td>24.0</td>\n",
              "      <td>26.3</td>\n",
              "      <td>31.2</td>\n",
              "      <td>12.4800</td>\n",
              "      <td>4.3056</td>\n",
              "    </tr>\n",
              "    <tr>\n",
              "      <th>2</th>\n",
              "      <td>Bream</td>\n",
              "      <td>340.0</td>\n",
              "      <td>23.9</td>\n",
              "      <td>26.5</td>\n",
              "      <td>31.1</td>\n",
              "      <td>12.3778</td>\n",
              "      <td>4.6961</td>\n",
              "    </tr>\n",
              "    <tr>\n",
              "      <th>3</th>\n",
              "      <td>Bream</td>\n",
              "      <td>363.0</td>\n",
              "      <td>26.3</td>\n",
              "      <td>29.0</td>\n",
              "      <td>33.5</td>\n",
              "      <td>12.7300</td>\n",
              "      <td>4.4555</td>\n",
              "    </tr>\n",
              "    <tr>\n",
              "      <th>4</th>\n",
              "      <td>Bream</td>\n",
              "      <td>430.0</td>\n",
              "      <td>26.5</td>\n",
              "      <td>29.0</td>\n",
              "      <td>34.0</td>\n",
              "      <td>12.4440</td>\n",
              "      <td>5.1340</td>\n",
              "    </tr>\n",
              "  </tbody>\n",
              "</table>\n",
              "</div>"
            ],
            "text/plain": [
              "  Species  Weight  Length1  Length2  Length3   Height   Width\n",
              "0   Bream   242.0     23.2     25.4     30.0  11.5200  4.0200\n",
              "1   Bream   290.0     24.0     26.3     31.2  12.4800  4.3056\n",
              "2   Bream   340.0     23.9     26.5     31.1  12.3778  4.6961\n",
              "3   Bream   363.0     26.3     29.0     33.5  12.7300  4.4555\n",
              "4   Bream   430.0     26.5     29.0     34.0  12.4440  5.1340"
            ]
          },
          "metadata": {},
          "execution_count": 23
        }
      ]
    },
    {
      "cell_type": "code",
      "metadata": {
        "id": "iL6vmfTMNqeI",
        "colab": {
          "base_uri": "https://localhost:8080/"
        },
        "outputId": "2a80e2b2-11f3-4326-f966-fde4d600e500"
      },
      "source": [
        "# Let's get the data shape\n",
        "fish_data.shape"
      ],
      "execution_count": 24,
      "outputs": [
        {
          "output_type": "execute_result",
          "data": {
            "text/plain": [
              "(159, 7)"
            ]
          },
          "metadata": {},
          "execution_count": 24
        }
      ]
    },
    {
      "cell_type": "code",
      "metadata": {
        "id": "uYMy04YkImZG",
        "colab": {
          "base_uri": "https://localhost:8080/",
          "height": 0
        },
        "outputId": "b6a2d205-2b79-44e2-9e77-966fc3ee7e1f"
      },
      "source": [
        "# Let's describe the data\n",
        "fish_data.describe()"
      ],
      "execution_count": 25,
      "outputs": [
        {
          "output_type": "execute_result",
          "data": {
            "text/html": [
              "<div>\n",
              "<style scoped>\n",
              "    .dataframe tbody tr th:only-of-type {\n",
              "        vertical-align: middle;\n",
              "    }\n",
              "\n",
              "    .dataframe tbody tr th {\n",
              "        vertical-align: top;\n",
              "    }\n",
              "\n",
              "    .dataframe thead th {\n",
              "        text-align: right;\n",
              "    }\n",
              "</style>\n",
              "<table border=\"1\" class=\"dataframe\">\n",
              "  <thead>\n",
              "    <tr style=\"text-align: right;\">\n",
              "      <th></th>\n",
              "      <th>Weight</th>\n",
              "      <th>Length1</th>\n",
              "      <th>Length2</th>\n",
              "      <th>Length3</th>\n",
              "      <th>Height</th>\n",
              "      <th>Width</th>\n",
              "    </tr>\n",
              "  </thead>\n",
              "  <tbody>\n",
              "    <tr>\n",
              "      <th>count</th>\n",
              "      <td>159.000000</td>\n",
              "      <td>159.000000</td>\n",
              "      <td>159.000000</td>\n",
              "      <td>159.000000</td>\n",
              "      <td>159.000000</td>\n",
              "      <td>159.000000</td>\n",
              "    </tr>\n",
              "    <tr>\n",
              "      <th>mean</th>\n",
              "      <td>398.326415</td>\n",
              "      <td>26.247170</td>\n",
              "      <td>28.415723</td>\n",
              "      <td>31.227044</td>\n",
              "      <td>8.970994</td>\n",
              "      <td>4.417486</td>\n",
              "    </tr>\n",
              "    <tr>\n",
              "      <th>std</th>\n",
              "      <td>357.978317</td>\n",
              "      <td>9.996441</td>\n",
              "      <td>10.716328</td>\n",
              "      <td>11.610246</td>\n",
              "      <td>4.286208</td>\n",
              "      <td>1.685804</td>\n",
              "    </tr>\n",
              "    <tr>\n",
              "      <th>min</th>\n",
              "      <td>0.000000</td>\n",
              "      <td>7.500000</td>\n",
              "      <td>8.400000</td>\n",
              "      <td>8.800000</td>\n",
              "      <td>1.728400</td>\n",
              "      <td>1.047600</td>\n",
              "    </tr>\n",
              "    <tr>\n",
              "      <th>25%</th>\n",
              "      <td>120.000000</td>\n",
              "      <td>19.050000</td>\n",
              "      <td>21.000000</td>\n",
              "      <td>23.150000</td>\n",
              "      <td>5.944800</td>\n",
              "      <td>3.385650</td>\n",
              "    </tr>\n",
              "    <tr>\n",
              "      <th>50%</th>\n",
              "      <td>273.000000</td>\n",
              "      <td>25.200000</td>\n",
              "      <td>27.300000</td>\n",
              "      <td>29.400000</td>\n",
              "      <td>7.786000</td>\n",
              "      <td>4.248500</td>\n",
              "    </tr>\n",
              "    <tr>\n",
              "      <th>75%</th>\n",
              "      <td>650.000000</td>\n",
              "      <td>32.700000</td>\n",
              "      <td>35.500000</td>\n",
              "      <td>39.650000</td>\n",
              "      <td>12.365900</td>\n",
              "      <td>5.584500</td>\n",
              "    </tr>\n",
              "    <tr>\n",
              "      <th>max</th>\n",
              "      <td>1650.000000</td>\n",
              "      <td>59.000000</td>\n",
              "      <td>63.400000</td>\n",
              "      <td>68.000000</td>\n",
              "      <td>18.957000</td>\n",
              "      <td>8.142000</td>\n",
              "    </tr>\n",
              "  </tbody>\n",
              "</table>\n",
              "</div>"
            ],
            "text/plain": [
              "            Weight     Length1     Length2     Length3      Height       Width\n",
              "count   159.000000  159.000000  159.000000  159.000000  159.000000  159.000000\n",
              "mean    398.326415   26.247170   28.415723   31.227044    8.970994    4.417486\n",
              "std     357.978317    9.996441   10.716328   11.610246    4.286208    1.685804\n",
              "min       0.000000    7.500000    8.400000    8.800000    1.728400    1.047600\n",
              "25%     120.000000   19.050000   21.000000   23.150000    5.944800    3.385650\n",
              "50%     273.000000   25.200000   27.300000   29.400000    7.786000    4.248500\n",
              "75%     650.000000   32.700000   35.500000   39.650000   12.365900    5.584500\n",
              "max    1650.000000   59.000000   63.400000   68.000000   18.957000    8.142000"
            ]
          },
          "metadata": {},
          "execution_count": 25
        }
      ]
    },
    {
      "cell_type": "code",
      "metadata": {
        "id": "qPM2fT7pImZH",
        "scrolled": true,
        "colab": {
          "base_uri": "https://localhost:8080/"
        },
        "outputId": "ddff1d8e-630d-43fa-ff37-a87bba5fa1e4"
      },
      "source": [
        "# Lastly, let's get data info\n",
        "fish_data.info()"
      ],
      "execution_count": 26,
      "outputs": [
        {
          "output_type": "stream",
          "name": "stdout",
          "text": [
            "<class 'pandas.core.frame.DataFrame'>\n",
            "RangeIndex: 159 entries, 0 to 158\n",
            "Data columns (total 7 columns):\n",
            " #   Column   Non-Null Count  Dtype  \n",
            "---  ------   --------------  -----  \n",
            " 0   Species  159 non-null    object \n",
            " 1   Weight   159 non-null    float64\n",
            " 2   Length1  159 non-null    float64\n",
            " 3   Length2  159 non-null    float64\n",
            " 4   Length3  159 non-null    float64\n",
            " 5   Height   159 non-null    float64\n",
            " 6   Width    159 non-null    float64\n",
            "dtypes: float64(6), object(1)\n",
            "memory usage: 8.8+ KB\n"
          ]
        }
      ]
    },
    {
      "cell_type": "markdown",
      "metadata": {
        "id": "nG9NvytqOK7s"
      },
      "source": [
        "### a) Removing 0's from data (5 points)"
      ]
    },
    {
      "cell_type": "markdown",
      "metadata": {
        "id": "expaCW7rOZO1"
      },
      "source": [
        "We can see that there aren't any null values in this dataset by using the .info() function. However, .describe() shows us there are weights of 0.0g which is ambiguous and is likely a recording error. \n",
        "\n",
        "Drop any row that has a weight of 0.0."
      ]
    },
    {
      "cell_type": "code",
      "metadata": {
        "id": "7yfCamcEImZJ",
        "colab": {
          "base_uri": "https://localhost:8080/",
          "height": 0
        },
        "outputId": "1bb90324-69c9-4f74-fe9e-154b6b892d6f"
      },
      "source": [
        "# Delete any rows for which there is a measurement of 0.0 for weight.\n",
        "indexes = fish_data[fish_data['Weight'] == 0].index\n",
        "fish_data.drop(indexes, inplace=True)\n",
        "\n",
        "# Let's take another look.\n",
        "fish_data.describe()"
      ],
      "execution_count": 27,
      "outputs": [
        {
          "output_type": "execute_result",
          "data": {
            "text/html": [
              "<div>\n",
              "<style scoped>\n",
              "    .dataframe tbody tr th:only-of-type {\n",
              "        vertical-align: middle;\n",
              "    }\n",
              "\n",
              "    .dataframe tbody tr th {\n",
              "        vertical-align: top;\n",
              "    }\n",
              "\n",
              "    .dataframe thead th {\n",
              "        text-align: right;\n",
              "    }\n",
              "</style>\n",
              "<table border=\"1\" class=\"dataframe\">\n",
              "  <thead>\n",
              "    <tr style=\"text-align: right;\">\n",
              "      <th></th>\n",
              "      <th>Weight</th>\n",
              "      <th>Length1</th>\n",
              "      <th>Length2</th>\n",
              "      <th>Length3</th>\n",
              "      <th>Height</th>\n",
              "      <th>Width</th>\n",
              "    </tr>\n",
              "  </thead>\n",
              "  <tbody>\n",
              "    <tr>\n",
              "      <th>count</th>\n",
              "      <td>158.000000</td>\n",
              "      <td>158.000000</td>\n",
              "      <td>158.000000</td>\n",
              "      <td>158.000000</td>\n",
              "      <td>158.000000</td>\n",
              "      <td>158.000000</td>\n",
              "    </tr>\n",
              "    <tr>\n",
              "      <th>mean</th>\n",
              "      <td>400.847468</td>\n",
              "      <td>26.293038</td>\n",
              "      <td>28.465823</td>\n",
              "      <td>31.280380</td>\n",
              "      <td>8.986790</td>\n",
              "      <td>4.424232</td>\n",
              "    </tr>\n",
              "    <tr>\n",
              "      <th>std</th>\n",
              "      <td>357.697796</td>\n",
              "      <td>10.011427</td>\n",
              "      <td>10.731707</td>\n",
              "      <td>11.627605</td>\n",
              "      <td>4.295191</td>\n",
              "      <td>1.689010</td>\n",
              "    </tr>\n",
              "    <tr>\n",
              "      <th>min</th>\n",
              "      <td>5.900000</td>\n",
              "      <td>7.500000</td>\n",
              "      <td>8.400000</td>\n",
              "      <td>8.800000</td>\n",
              "      <td>1.728400</td>\n",
              "      <td>1.047600</td>\n",
              "    </tr>\n",
              "    <tr>\n",
              "      <th>25%</th>\n",
              "      <td>121.250000</td>\n",
              "      <td>19.150000</td>\n",
              "      <td>21.000000</td>\n",
              "      <td>23.200000</td>\n",
              "      <td>5.940600</td>\n",
              "      <td>3.398650</td>\n",
              "    </tr>\n",
              "    <tr>\n",
              "      <th>50%</th>\n",
              "      <td>281.500000</td>\n",
              "      <td>25.300000</td>\n",
              "      <td>27.400000</td>\n",
              "      <td>29.700000</td>\n",
              "      <td>7.789000</td>\n",
              "      <td>4.277050</td>\n",
              "    </tr>\n",
              "    <tr>\n",
              "      <th>75%</th>\n",
              "      <td>650.000000</td>\n",
              "      <td>32.700000</td>\n",
              "      <td>35.750000</td>\n",
              "      <td>39.675000</td>\n",
              "      <td>12.371850</td>\n",
              "      <td>5.586750</td>\n",
              "    </tr>\n",
              "    <tr>\n",
              "      <th>max</th>\n",
              "      <td>1650.000000</td>\n",
              "      <td>59.000000</td>\n",
              "      <td>63.400000</td>\n",
              "      <td>68.000000</td>\n",
              "      <td>18.957000</td>\n",
              "      <td>8.142000</td>\n",
              "    </tr>\n",
              "  </tbody>\n",
              "</table>\n",
              "</div>"
            ],
            "text/plain": [
              "            Weight     Length1     Length2     Length3      Height       Width\n",
              "count   158.000000  158.000000  158.000000  158.000000  158.000000  158.000000\n",
              "mean    400.847468   26.293038   28.465823   31.280380    8.986790    4.424232\n",
              "std     357.697796   10.011427   10.731707   11.627605    4.295191    1.689010\n",
              "min       5.900000    7.500000    8.400000    8.800000    1.728400    1.047600\n",
              "25%     121.250000   19.150000   21.000000   23.200000    5.940600    3.398650\n",
              "50%     281.500000   25.300000   27.400000   29.700000    7.789000    4.277050\n",
              "75%     650.000000   32.700000   35.750000   39.675000   12.371850    5.586750\n",
              "max    1650.000000   59.000000   63.400000   68.000000   18.957000    8.142000"
            ]
          },
          "metadata": {},
          "execution_count": 27
        }
      ]
    },
    {
      "cell_type": "markdown",
      "metadata": {
        "id": "YldeqJEoImZJ"
      },
      "source": [
        "### b) Outlier Detection \\& Elimination (5 points)"
      ]
    },
    {
      "cell_type": "markdown",
      "metadata": {
        "id": "WSqQRkpJPQSb"
      },
      "source": [
        "Using 4 standard deviations from the mean as our cut-off, and using the data listed using the describe function above, are there any outliers?"
      ]
    },
    {
      "cell_type": "code",
      "metadata": {
        "id": "HCnFZgec000S"
      },
      "source": [
        "### No code necessary ###"
      ],
      "execution_count": 28,
      "outputs": []
    },
    {
      "cell_type": "markdown",
      "metadata": {
        "id": "W-DoY4ozjeel"
      },
      "source": [
        "There are no outliers in the data. Everything is within 4 standard deviations from its respective mean."
      ]
    },
    {
      "cell_type": "markdown",
      "metadata": {
        "id": "se3W2x_PThhC"
      },
      "source": [
        "## Problem 3 - Fish Linear Regression"
      ]
    },
    {
      "cell_type": "markdown",
      "metadata": {
        "id": "3aOeXbcUeZJL"
      },
      "source": [
        "You will now run different versions of linear regression in order to predict fish Weight using the 6 explanatory variables."
      ]
    },
    {
      "cell_type": "markdown",
      "metadata": {
        "id": "TD6Ixu2Welbe"
      },
      "source": [
        "### a) Multiple Linear Regression (6 points)"
      ]
    },
    {
      "cell_type": "markdown",
      "metadata": {
        "id": "E2DFm5KrU7N9"
      },
      "source": [
        "First, run a multiple linear regression using only the height, width, and length measurements to predict weight. We will begin by splitting the data into features **X_fish** and target variable **y_fish**."
      ]
    },
    {
      "cell_type": "code",
      "metadata": {
        "id": "HPuMcF23Vbyl",
        "colab": {
          "base_uri": "https://localhost:8080/"
        },
        "outputId": "2985a594-09a3-45cc-c614-5e637fdeb15e"
      },
      "source": [
        "y_fish = fish_data.iloc[:, 1] # Get Fish Weights\n",
        "X_fish = fish_data.drop(columns=['Weight']) # Get Fish measurements plus species\n",
        "X_fish = X_fish.drop(columns=['Species']) # Drop the Fish Species for now\n",
        "\n",
        "# Print X.head(), you should have 5 features for each sample\n",
        "print(\"X_fish.head():\")\n",
        "print(X_fish.head())\n",
        "\n",
        "# Print y.head(), you should have one label for each sample\n",
        "print(\"\\ny_fish.head()\")\n",
        "print(y_fish.head())"
      ],
      "execution_count": 29,
      "outputs": [
        {
          "output_type": "stream",
          "name": "stdout",
          "text": [
            "X_fish.head():\n",
            "   Length1  Length2  Length3   Height   Width\n",
            "0     23.2     25.4     30.0  11.5200  4.0200\n",
            "1     24.0     26.3     31.2  12.4800  4.3056\n",
            "2     23.9     26.5     31.1  12.3778  4.6961\n",
            "3     26.3     29.0     33.5  12.7300  4.4555\n",
            "4     26.5     29.0     34.0  12.4440  5.1340\n",
            "\n",
            "y_fish.head()\n",
            "0    242.0\n",
            "1    290.0\n",
            "2    340.0\n",
            "3    363.0\n",
            "4    430.0\n",
            "Name: Weight, dtype: float64\n"
          ]
        }
      ]
    },
    {
      "cell_type": "markdown",
      "metadata": {
        "id": "jypw17XkXuDv"
      },
      "source": [
        "Now, we are almost ready to run regression with scikit-learn. We need to first convert **X_fish** and **y_fish** into numpy arrays and split the data into training and validation splits using sklearn **train_test_split**. \n",
        "\n",
        "sklearn's train_test_split offers customizable functionality when creating training and test sets. For more information, checkout https://scikit-learn.org/stable/modules/generated/sklearn.model_selection.train_test_split.html ."
      ]
    },
    {
      "cell_type": "code",
      "metadata": {
        "id": "I0UOI7KvYA0x"
      },
      "source": [
        "# Convert X, and y into np arrays\n",
        "X_fish = X_fish.values\n",
        "y_fish = y_fish.values\n",
        "\n",
        "# Split data into train test split\n",
        "from sklearn.model_selection import train_test_split\n",
        "X_fish_train, X_fish_test, y_fish_train, y_fish_test = train_test_split(X_fish, y_fish, test_size = 0.2, random_state = 0)"
      ],
      "execution_count": 30,
      "outputs": []
    },
    {
      "cell_type": "markdown",
      "metadata": {
        "id": "qFCSJJ7MYsMj"
      },
      "source": [
        "Now we are ready to run a multiple linear regression. Use sklearn's **LinearRegression** to carry out the regression."
      ]
    },
    {
      "cell_type": "code",
      "metadata": {
        "id": "GHcbvBTTYsF2",
        "colab": {
          "base_uri": "https://localhost:8080/"
        },
        "outputId": "4c33de9f-0673-47b5-e255-eaebf3f01cb7"
      },
      "source": [
        "from sklearn.linear_model import LinearRegression\n",
        "regressor = LinearRegression()\n",
        "\n",
        "# Fit the regressor using X_fish_train and y_fish_train\n",
        "regressor.fit(X_fish_train, y_fish_train)"
      ],
      "execution_count": 31,
      "outputs": [
        {
          "output_type": "execute_result",
          "data": {
            "text/plain": [
              "LinearRegression(copy_X=True, fit_intercept=True, n_jobs=None, normalize=False)"
            ]
          },
          "metadata": {},
          "execution_count": 31
        }
      ]
    },
    {
      "cell_type": "markdown",
      "metadata": {
        "id": "acTg_PwUabeY"
      },
      "source": [
        "Now let's see how we did and generate predictions for X_fish_test. Then print predicted values and actual target values side-by-side for a visual comparison."
      ]
    },
    {
      "cell_type": "code",
      "metadata": {
        "id": "u3BTynP2Yr-B",
        "colab": {
          "base_uri": "https://localhost:8080/"
        },
        "outputId": "1a337770-690a-474f-faaf-715069f443dd"
      },
      "source": [
        "# Generate predictions using X_fish_test\n",
        "y_fish_pred = regressor.predict(X_fish_test)\n",
        "\n",
        "# Print the predictions along with actual weights\n",
        "print(y_fish_pred)\n",
        "print(y_fish_test)"
      ],
      "execution_count": 32,
      "outputs": [
        {
          "output_type": "stream",
          "name": "stdout",
          "text": [
            "[ 476.59117882  207.99295613  696.61277798  829.8356242   155.66081611\n",
            "  839.43077312  756.42454219  860.9053846   648.06518937  194.36935617\n",
            "  656.33115593  988.3533044   694.41908995   27.97315647   90.40492061\n",
            "  279.88428528  426.51714491  253.27497124  988.3533044   380.41382554\n",
            "  203.773294    873.13422668  776.42866652  514.64529123  156.2549434\n",
            "   98.82407554  423.34057751  638.76055132 -203.30791322  611.87530104\n",
            "  352.87773986  307.75783507]\n",
            "[ 390.   160.   700.  1015.   120.  1100.   820.   950.   556.   145.\n",
            "  700.  1600.   720.    55.    85.   188.   300.   180.  1550.   306.\n",
            "  140.   975.  1000.   450.   110.    78.   300.   650.     6.7  514.\n",
            "  290.   270. ]\n"
          ]
        }
      ]
    },
    {
      "cell_type": "markdown",
      "metadata": {
        "id": "JEoRzxdUZEXE"
      },
      "source": [
        "### b) Computing MSE and R-squared for MLR (5 points)"
      ]
    },
    {
      "cell_type": "markdown",
      "metadata": {
        "id": "J1H01fjoYr3I"
      },
      "source": [
        "The model appears to do an okay job predicting some weights while missing the mark on others. Let's quantify the results by computing mean squared error (MSE) and the coefficient of determination (R-squared). sklearn's metrics package provides functions to compute the values for you. \n",
        "\n",
        "More info can be found here: \n",
        "\n",
        "https://scikit-learn.org/stable/modules/generated/sklearn.metrics.mean_squared_error.html\n",
        "https://scikit-learn.org/stable/modules/generated/sklearn.metrics.r2_score.html"
      ]
    },
    {
      "cell_type": "code",
      "metadata": {
        "id": "_KUunCUyYrvX",
        "colab": {
          "base_uri": "https://localhost:8080/"
        },
        "outputId": "a5cfcb19-4550-4e0f-ac61-f4a29b341b57"
      },
      "source": [
        "from sklearn.metrics import mean_squared_error\n",
        "from sklearn.metrics import r2_score\n",
        "\n",
        "# Compute the mean squared error using y_fish_test and y_fish_pred\n",
        "MSE = mean_squared_error(y_fish_test, y_fish_pred)\n",
        "print(MSE)\n",
        "# Compute the coefficient of determination using y_fish_test and y_fish_pred\n",
        "RS = r2_score(y_fish_test, y_fish_pred)\n",
        "print(RS)"
      ],
      "execution_count": 33,
      "outputs": [
        {
          "output_type": "stream",
          "name": "stdout",
          "text": [
            "31561.773067541344\n",
            "0.8245122776931352\n"
          ]
        }
      ]
    },
    {
      "cell_type": "markdown",
      "metadata": {
        "id": "jiKHKbSzdWZQ"
      },
      "source": [
        "Using the y_fish_test and y_fish_pred, what was the mean squared error for this model?"
      ]
    },
    {
      "cell_type": "markdown",
      "metadata": {
        "id": "CFUrwJv7dn5d"
      },
      "source": [
        "31561.773067541344"
      ]
    },
    {
      "cell_type": "markdown",
      "metadata": {
        "id": "dsC4S8pWdrHE"
      },
      "source": [
        "Using the y_fish_test and y_fish_pred, what was the coefficient of detemination for this model?"
      ]
    },
    {
      "cell_type": "markdown",
      "metadata": {
        "id": "M-xqx9NUdrHF"
      },
      "source": [
        "0.8245122776931352"
      ]
    },
    {
      "cell_type": "markdown",
      "metadata": {
        "id": "K-UjZojxjv5W"
      },
      "source": [
        "### c) Polynomial Multiple Linear Regression (12 points)"
      ]
    },
    {
      "cell_type": "markdown",
      "metadata": {
        "id": "z8EgAGkAjzCP"
      },
      "source": [
        "We have seen how polynomial regression can increase the predictive power of linear regression models. We will now run a polynomial multiple linear regression model in order to gain a more accurate model. Begin by transforming the features X_fish_test and X_fish_train into second order polynomial space. There will be interaction terms in the transformed dataset as well. For more on interaction terms visit the sklearn docs."
      ]
    },
    {
      "cell_type": "code",
      "metadata": {
        "id": "QlKOME90kDmY",
        "colab": {
          "base_uri": "https://localhost:8080/"
        },
        "outputId": "fe5af4fa-6b5f-4d80-9478-e9bbb7d4c94c"
      },
      "source": [
        "from sklearn.preprocessing import PolynomialFeatures\n",
        "# Create polynomial transform of degree 2. hint: problem 1\n",
        "poly = PolynomialFeatures(2)\n",
        "\n",
        "# Transform X_fish_train X_fish_test to second order polynomial space\n",
        "X_fish_train_pol = poly.fit_transform(X_fish_train)\n",
        "X_fish_test_pol = poly.fit_transform(X_fish_test)\n",
        "\n",
        "# Print 5 rows of X_fish_train_poly, shape should be (5,21)\n",
        "print(X_fish_train_pol[:5])"
      ],
      "execution_count": 34,
      "outputs": [
        {
          "output_type": "stream",
          "name": "stdout",
          "text": [
            "[[1.00000000e+00 3.04000000e+01 3.30000000e+01 3.83000000e+01\n",
            "  1.48604000e+01 5.28540000e+00 9.24160000e+02 1.00320000e+03\n",
            "  1.16432000e+03 4.51756160e+02 1.60676160e+02 1.08900000e+03\n",
            "  1.26390000e+03 4.90393200e+02 1.74418200e+02 1.46689000e+03\n",
            "  5.69153320e+02 2.02430820e+02 2.20831488e+02 7.85431582e+01\n",
            "  2.79354532e+01]\n",
            " [1.00000000e+00 3.48000000e+01 3.73000000e+01 3.98000000e+01\n",
            "  6.28840000e+00 4.01980000e+00 1.21104000e+03 1.29804000e+03\n",
            "  1.38504000e+03 2.18836320e+02 1.39889040e+02 1.39129000e+03\n",
            "  1.48454000e+03 2.34557320e+02 1.49938540e+02 1.58404000e+03\n",
            "  2.50278320e+02 1.59988040e+02 3.95439746e+01 2.52781103e+01\n",
            "  1.61587920e+01]\n",
            " [1.00000000e+00 4.00000000e+01 4.25000000e+01 4.55000000e+01\n",
            "  6.82500000e+00 4.45900000e+00 1.60000000e+03 1.70000000e+03\n",
            "  1.82000000e+03 2.73000000e+02 1.78360000e+02 1.80625000e+03\n",
            "  1.93375000e+03 2.90062500e+02 1.89507500e+02 2.07025000e+03\n",
            "  3.10537500e+02 2.02884500e+02 4.65806250e+01 3.04326750e+01\n",
            "  1.98826810e+01]\n",
            " [1.00000000e+00 3.15000000e+01 3.45000000e+01 3.97000000e+01\n",
            "  1.55227000e+01 5.28010000e+00 9.92250000e+02 1.08675000e+03\n",
            "  1.25055000e+03 4.88965050e+02 1.66323150e+02 1.19025000e+03\n",
            "  1.36965000e+03 5.35533150e+02 1.82163450e+02 1.57609000e+03\n",
            "  6.16251190e+02 2.09619970e+02 2.40954215e+02 8.19614083e+01\n",
            "  2.78794560e+01]\n",
            " [1.00000000e+00 2.10000000e+01 2.30000000e+01 2.45000000e+01\n",
            "  5.21850000e+00 3.62600000e+00 4.41000000e+02 4.83000000e+02\n",
            "  5.14500000e+02 1.09588500e+02 7.61460000e+01 5.29000000e+02\n",
            "  5.63500000e+02 1.20025500e+02 8.33980000e+01 6.00250000e+02\n",
            "  1.27853250e+02 8.88370000e+01 2.72327422e+01 1.89222810e+01\n",
            "  1.31478760e+01]]\n"
          ]
        }
      ]
    },
    {
      "cell_type": "markdown",
      "metadata": {
        "id": "21wLW5Y0DTXR"
      },
      "source": [
        "Next run the second order polynomial regression using the transformed data. Instantiate a new regression model and use X_fish_train_pol and y_fish_train to fit the model."
      ]
    },
    {
      "cell_type": "code",
      "metadata": {
        "id": "mRK0BdUlDZOf",
        "colab": {
          "base_uri": "https://localhost:8080/"
        },
        "outputId": "1d0fdac3-d1cd-45a2-897e-808fba17f35f"
      },
      "source": [
        "from sklearn.linear_model import LinearRegression\n",
        "regressor = LinearRegression() \n",
        "\n",
        "# Fit the regressor using X_fish_train_pol and y_fish_train\n",
        "regressor.fit(X_fish_train_pol, y_fish_train)\n"
      ],
      "execution_count": 35,
      "outputs": [
        {
          "output_type": "execute_result",
          "data": {
            "text/plain": [
              "LinearRegression(copy_X=True, fit_intercept=True, n_jobs=None, normalize=False)"
            ]
          },
          "metadata": {},
          "execution_count": 35
        }
      ]
    },
    {
      "cell_type": "markdown",
      "metadata": {
        "id": "8Ue0vEm4D0fC"
      },
      "source": [
        "Now let's see how we did with the second model and generate predictions using X_fish_test_pol. Then print predicted values and actual target values side-by-side for a visual comparison."
      ]
    },
    {
      "cell_type": "code",
      "metadata": {
        "id": "dptAnGEhEc1D",
        "colab": {
          "base_uri": "https://localhost:8080/"
        },
        "outputId": "1cbe97f7-a281-4ea9-987b-a92a3a1e1010"
      },
      "source": [
        "# generate predictions using X_test\n",
        "y_fish_pol_pred = regressor.predict(X_fish_test_pol)\n",
        "\n",
        "# Print the predictions along with actual weights\n",
        "print(y_fish_pol_pred)\n",
        "print(y_fish_test)"
      ],
      "execution_count": 36,
      "outputs": [
        {
          "output_type": "stream",
          "name": "stdout",
          "text": [
            "[ 410.78161734  144.99000843  661.08994618  916.20938635  120.28326146\n",
            "  892.29452538  779.33036275  970.51372058  613.97188853  138.75685095\n",
            "  702.96694468 1200.88080985  736.01964613   68.24127116   65.41870351\n",
            "  204.06717258  348.32997005  164.86007088 1200.88080985  301.29364676\n",
            "  132.03878287 1080.95184924  800.55488719  465.06392928  113.12282845\n",
            "   78.16667224  337.9263526   610.88838108   14.31425669  526.27843992\n",
            "  265.75936168  235.08321339]\n",
            "[ 390.   160.   700.  1015.   120.  1100.   820.   950.   556.   145.\n",
            "  700.  1600.   720.    55.    85.   188.   300.   180.  1550.   306.\n",
            "  140.   975.  1000.   450.   110.    78.   300.   650.     6.7  514.\n",
            "  290.   270. ]\n"
          ]
        }
      ]
    },
    {
      "cell_type": "markdown",
      "metadata": {
        "id": "Duo5OHehZYHG"
      },
      "source": [
        "### d) Computing MSE and R-squared for Polynomial Regression (5 points)"
      ]
    },
    {
      "cell_type": "markdown",
      "metadata": {
        "id": "ZBBJcKlcZi4g"
      },
      "source": [
        "Now, compute the MSE and R-squared using y_fish_test and y_fish_pol_pred"
      ]
    },
    {
      "cell_type": "code",
      "metadata": {
        "id": "v9cUc-z_EwJa",
        "colab": {
          "base_uri": "https://localhost:8080/"
        },
        "outputId": "4de872a2-9e14-4a33-f256-e8e31ef7e6ca"
      },
      "source": [
        "from sklearn.metrics import mean_squared_error\n",
        "from sklearn.metrics import r2_score\n",
        "\n",
        "# Compute the mean squared error using y_fish_test and y_fish_pol_pred\n",
        "MSE = mean_squared_error(y_fish_test, y_fish_pol_pred)\n",
        "print(MSE)\n",
        "\n",
        "# Compute the coefficient of determination using y_fish_test and y_fish_pol_pred\n",
        "RS = r2_score(y_fish_test, y_fish_pol_pred)\n",
        "print(RS)"
      ],
      "execution_count": 37,
      "outputs": [
        {
          "output_type": "stream",
          "name": "stdout",
          "text": [
            "12552.64579521197\n",
            "0.9302055934939845\n"
          ]
        }
      ]
    },
    {
      "cell_type": "markdown",
      "metadata": {
        "id": "EibvMRnCFSN1"
      },
      "source": [
        "Using the y_fish_test and y_fish_pol_pred, what was the mean squared error for this model?"
      ]
    },
    {
      "cell_type": "markdown",
      "metadata": {
        "id": "il_tGDNsFSN1"
      },
      "source": [
        "12552.64579521197"
      ]
    },
    {
      "cell_type": "markdown",
      "metadata": {
        "id": "-N2v3ly4FSN2"
      },
      "source": [
        "Using the y_fish_test and y_fish_pol_pred, what was the coefficient of detemination for this model?"
      ]
    },
    {
      "cell_type": "markdown",
      "metadata": {
        "id": "rMdHoxc1Znt4"
      },
      "source": [
        "0.9302055934939845"
      ]
    },
    {
      "cell_type": "markdown",
      "metadata": {
        "id": "9hKsk6BrImZL"
      },
      "source": [
        "### e) Multiple Linear Regression With Categorical Variable (12 points)"
      ]
    },
    {
      "cell_type": "markdown",
      "metadata": {
        "id": "mx2i-jbiF5oP"
      },
      "source": [
        "Now that we have done multiple linear regression, and polynomial multiple linear regression, we will now do a multiple linear regression that takes into account the species of fish by creating numeric levels."
      ]
    },
    {
      "cell_type": "code",
      "metadata": {
        "id": "q1stDO11ImZL",
        "colab": {
          "base_uri": "https://localhost:8080/",
          "height": 0
        },
        "outputId": "24c95377-bdac-4705-85e6-a5b89dbfb151"
      },
      "source": [
        "# Create a copy of fish_data\n",
        "fish_data_species = fish_data\n",
        "\n",
        "# Begin by generating a dictionary that maps all unique species in fish_data to a unique id\n",
        "level_dict = {species_name:i for i, species_name in enumerate(fish_data_species['Species'].unique())}\n",
        "\n",
        "# Uses the level dictionary to retrieve the id\n",
        "def integer_encode_level(level):\n",
        "    return level_dict[level]\n",
        "\n",
        "# Apply the function to the Species column and store in Species column (you should overwrite the species current data with the numeric representations)\n",
        "fish_data_species['Species'] = fish_data_species['Species'].apply(integer_encode_level)\n",
        "\n",
        "# Check data\n",
        "fish_data_species"
      ],
      "execution_count": 38,
      "outputs": [
        {
          "output_type": "execute_result",
          "data": {
            "text/html": [
              "<div>\n",
              "<style scoped>\n",
              "    .dataframe tbody tr th:only-of-type {\n",
              "        vertical-align: middle;\n",
              "    }\n",
              "\n",
              "    .dataframe tbody tr th {\n",
              "        vertical-align: top;\n",
              "    }\n",
              "\n",
              "    .dataframe thead th {\n",
              "        text-align: right;\n",
              "    }\n",
              "</style>\n",
              "<table border=\"1\" class=\"dataframe\">\n",
              "  <thead>\n",
              "    <tr style=\"text-align: right;\">\n",
              "      <th></th>\n",
              "      <th>Species</th>\n",
              "      <th>Weight</th>\n",
              "      <th>Length1</th>\n",
              "      <th>Length2</th>\n",
              "      <th>Length3</th>\n",
              "      <th>Height</th>\n",
              "      <th>Width</th>\n",
              "    </tr>\n",
              "  </thead>\n",
              "  <tbody>\n",
              "    <tr>\n",
              "      <th>0</th>\n",
              "      <td>0</td>\n",
              "      <td>242.0</td>\n",
              "      <td>23.2</td>\n",
              "      <td>25.4</td>\n",
              "      <td>30.0</td>\n",
              "      <td>11.5200</td>\n",
              "      <td>4.0200</td>\n",
              "    </tr>\n",
              "    <tr>\n",
              "      <th>1</th>\n",
              "      <td>0</td>\n",
              "      <td>290.0</td>\n",
              "      <td>24.0</td>\n",
              "      <td>26.3</td>\n",
              "      <td>31.2</td>\n",
              "      <td>12.4800</td>\n",
              "      <td>4.3056</td>\n",
              "    </tr>\n",
              "    <tr>\n",
              "      <th>2</th>\n",
              "      <td>0</td>\n",
              "      <td>340.0</td>\n",
              "      <td>23.9</td>\n",
              "      <td>26.5</td>\n",
              "      <td>31.1</td>\n",
              "      <td>12.3778</td>\n",
              "      <td>4.6961</td>\n",
              "    </tr>\n",
              "    <tr>\n",
              "      <th>3</th>\n",
              "      <td>0</td>\n",
              "      <td>363.0</td>\n",
              "      <td>26.3</td>\n",
              "      <td>29.0</td>\n",
              "      <td>33.5</td>\n",
              "      <td>12.7300</td>\n",
              "      <td>4.4555</td>\n",
              "    </tr>\n",
              "    <tr>\n",
              "      <th>4</th>\n",
              "      <td>0</td>\n",
              "      <td>430.0</td>\n",
              "      <td>26.5</td>\n",
              "      <td>29.0</td>\n",
              "      <td>34.0</td>\n",
              "      <td>12.4440</td>\n",
              "      <td>5.1340</td>\n",
              "    </tr>\n",
              "    <tr>\n",
              "      <th>...</th>\n",
              "      <td>...</td>\n",
              "      <td>...</td>\n",
              "      <td>...</td>\n",
              "      <td>...</td>\n",
              "      <td>...</td>\n",
              "      <td>...</td>\n",
              "      <td>...</td>\n",
              "    </tr>\n",
              "    <tr>\n",
              "      <th>154</th>\n",
              "      <td>6</td>\n",
              "      <td>12.2</td>\n",
              "      <td>11.5</td>\n",
              "      <td>12.2</td>\n",
              "      <td>13.4</td>\n",
              "      <td>2.0904</td>\n",
              "      <td>1.3936</td>\n",
              "    </tr>\n",
              "    <tr>\n",
              "      <th>155</th>\n",
              "      <td>6</td>\n",
              "      <td>13.4</td>\n",
              "      <td>11.7</td>\n",
              "      <td>12.4</td>\n",
              "      <td>13.5</td>\n",
              "      <td>2.4300</td>\n",
              "      <td>1.2690</td>\n",
              "    </tr>\n",
              "    <tr>\n",
              "      <th>156</th>\n",
              "      <td>6</td>\n",
              "      <td>12.2</td>\n",
              "      <td>12.1</td>\n",
              "      <td>13.0</td>\n",
              "      <td>13.8</td>\n",
              "      <td>2.2770</td>\n",
              "      <td>1.2558</td>\n",
              "    </tr>\n",
              "    <tr>\n",
              "      <th>157</th>\n",
              "      <td>6</td>\n",
              "      <td>19.7</td>\n",
              "      <td>13.2</td>\n",
              "      <td>14.3</td>\n",
              "      <td>15.2</td>\n",
              "      <td>2.8728</td>\n",
              "      <td>2.0672</td>\n",
              "    </tr>\n",
              "    <tr>\n",
              "      <th>158</th>\n",
              "      <td>6</td>\n",
              "      <td>19.9</td>\n",
              "      <td>13.8</td>\n",
              "      <td>15.0</td>\n",
              "      <td>16.2</td>\n",
              "      <td>2.9322</td>\n",
              "      <td>1.8792</td>\n",
              "    </tr>\n",
              "  </tbody>\n",
              "</table>\n",
              "<p>158 rows × 7 columns</p>\n",
              "</div>"
            ],
            "text/plain": [
              "     Species  Weight  Length1  Length2  Length3   Height   Width\n",
              "0          0   242.0     23.2     25.4     30.0  11.5200  4.0200\n",
              "1          0   290.0     24.0     26.3     31.2  12.4800  4.3056\n",
              "2          0   340.0     23.9     26.5     31.1  12.3778  4.6961\n",
              "3          0   363.0     26.3     29.0     33.5  12.7300  4.4555\n",
              "4          0   430.0     26.5     29.0     34.0  12.4440  5.1340\n",
              "..       ...     ...      ...      ...      ...      ...     ...\n",
              "154        6    12.2     11.5     12.2     13.4   2.0904  1.3936\n",
              "155        6    13.4     11.7     12.4     13.5   2.4300  1.2690\n",
              "156        6    12.2     12.1     13.0     13.8   2.2770  1.2558\n",
              "157        6    19.7     13.2     14.3     15.2   2.8728  2.0672\n",
              "158        6    19.9     13.8     15.0     16.2   2.9322  1.8792\n",
              "\n",
              "[158 rows x 7 columns]"
            ]
          },
          "metadata": {},
          "execution_count": 38
        }
      ]
    },
    {
      "cell_type": "markdown",
      "metadata": {
        "id": "wY-3cKNAK3cX"
      },
      "source": [
        "We will now create a dataset with 1 target column and 6 feature columns: Species, Length1, Length2, Length3, Height, Width. "
      ]
    },
    {
      "cell_type": "code",
      "metadata": {
        "id": "t49zhMyUJni-",
        "colab": {
          "base_uri": "https://localhost:8080/"
        },
        "outputId": "52e76078-ba6c-4c73-df89-10533a93c61c"
      },
      "source": [
        "# Split fish_data into \n",
        "y_fish_categorical = fish_data_species.iloc[:, 1] # Get Fish Weights\n",
        "X_fish_categorical = fish_data_species.drop(columns=['Weight']) # Get Fish measurements plus species\n",
        "\n",
        "# Print X_fish_categorical.head(), you should have 6 features for each sample\n",
        "print(\"X_fish_categorical.head():\")\n",
        "print(X_fish_categorical.head())\n",
        "\n",
        "# Print y_fish_categorical.head(), you should have one label for each sample\n",
        "print(\"\\ny_fish_categorical.head()\")\n",
        "print(y_fish_categorical.head())"
      ],
      "execution_count": 39,
      "outputs": [
        {
          "output_type": "stream",
          "name": "stdout",
          "text": [
            "X_fish_categorical.head():\n",
            "   Species  Length1  Length2  Length3   Height   Width\n",
            "0        0     23.2     25.4     30.0  11.5200  4.0200\n",
            "1        0     24.0     26.3     31.2  12.4800  4.3056\n",
            "2        0     23.9     26.5     31.1  12.3778  4.6961\n",
            "3        0     26.3     29.0     33.5  12.7300  4.4555\n",
            "4        0     26.5     29.0     34.0  12.4440  5.1340\n",
            "\n",
            "y_fish_categorical.head()\n",
            "0    242.0\n",
            "1    290.0\n",
            "2    340.0\n",
            "3    363.0\n",
            "4    430.0\n",
            "Name: Weight, dtype: float64\n"
          ]
        }
      ]
    },
    {
      "cell_type": "markdown",
      "metadata": {
        "id": "-vlKZB6CK6U-"
      },
      "source": [
        "Create training and test sets for the fish data with categorical species variable:"
      ]
    },
    {
      "cell_type": "code",
      "metadata": {
        "id": "JzzEthUHJndk"
      },
      "source": [
        "# Convert X, and y into np arrays\n",
        "X_fish_categorical = X_fish_categorical.values\n",
        "y_fish_categorical = y_fish_categorical.values\n",
        "\n",
        "# Split data into train test split\n",
        "from sklearn.model_selection import train_test_split\n",
        "X_fish_train_categorical, X_fish_test_categorical, y_fish_train_categorical, y_fish_test_categorical = train_test_split(X_fish_categorical, y_fish_categorical, test_size = 0.2, random_state = 0)"
      ],
      "execution_count": 40,
      "outputs": []
    },
    {
      "cell_type": "markdown",
      "metadata": {
        "id": "gTp4MctlI3WL"
      },
      "source": [
        "Now we are ready to run a our final multiple linear regression. As a recap, we added a categorical variable to represent the species of fish. We encoded the species as levels, and overwrote the species column with the numeric representations of the species. Now, use sklearn's **LinearRegression** to carry out regression one last time."
      ]
    },
    {
      "cell_type": "code",
      "metadata": {
        "id": "E3anA9_dLZEy",
        "colab": {
          "base_uri": "https://localhost:8080/"
        },
        "outputId": "062c4428-ec42-4535-d750-66215588c898"
      },
      "source": [
        "from sklearn.linear_model import LinearRegression\n",
        "regressor = LinearRegression()\n",
        "\n",
        "# Fit the regressor using X_fish_train_categorical and y_fish_train_categorical\n",
        "regressor.fit(X_fish_train_categorical, y_fish_train_categorical)"
      ],
      "execution_count": 41,
      "outputs": [
        {
          "output_type": "execute_result",
          "data": {
            "text/plain": [
              "LinearRegression(copy_X=True, fit_intercept=True, n_jobs=None, normalize=False)"
            ]
          },
          "metadata": {},
          "execution_count": 41
        }
      ]
    },
    {
      "cell_type": "markdown",
      "metadata": {
        "id": "6Oac4Ng3L_h3"
      },
      "source": [
        "Let's check the predictions for this model and generate predictions using X_fish_test_categorical. Then print target and estimated weight values side-by-side."
      ]
    },
    {
      "cell_type": "code",
      "metadata": {
        "id": "-e63kqUtL3PW",
        "colab": {
          "base_uri": "https://localhost:8080/"
        },
        "outputId": "70db3112-7839-418c-b4f0-93d785927b2f"
      },
      "source": [
        "# generate predictions using X_fish_test_categorical\n",
        "y_fish_pred_categorical = regressor.predict(X_fish_test_categorical)\n",
        "\n",
        "\n",
        "# Print the predictions along with actual weights\n",
        "print(y_fish_pred_categorical)\n",
        "print(y_fish_test_categorical)"
      ],
      "execution_count": 42,
      "outputs": [
        {
          "output_type": "stream",
          "name": "stdout",
          "text": [
            "[ 462.41622504  140.46342332  707.81903709  871.12283244  143.05409674\n",
            "  843.12937914  769.57751944  868.49680239  666.59839913  194.15313938\n",
            "  672.81491228  960.51330242  736.90986176   -2.95444362   41.01945186\n",
            "  284.75537218  561.73456426  224.74914601  960.51330242  350.84272643\n",
            "   72.02506985  829.14247276  732.9478214   509.48163199   42.63910432\n",
            "  -17.63979818  419.59866662  639.90483734 -123.28748213  564.13814055\n",
            "  296.09034527  277.24831537]\n",
            "[ 390.   160.   700.  1015.   120.  1100.   820.   950.   556.   145.\n",
            "  700.  1600.   720.    55.    85.   188.   300.   180.  1550.   306.\n",
            "  140.   975.  1000.   450.   110.    78.   300.   650.     6.7  514.\n",
            "  290.   270. ]\n"
          ]
        }
      ]
    },
    {
      "cell_type": "markdown",
      "metadata": {
        "id": "lz031lPOZuDJ"
      },
      "source": [
        "### f) Computing MSE and R-squared for MLR with Categorical Variable (5 points)"
      ]
    },
    {
      "cell_type": "code",
      "metadata": {
        "id": "vxN7AuQKMkii",
        "colab": {
          "base_uri": "https://localhost:8080/"
        },
        "outputId": "387350b9-a015-4007-d361-fce3eda462c9"
      },
      "source": [
        "# Compute the mean squared error using y_fish_test_categorical and y_fish_pred_categorical\n",
        "MSE = mean_squared_error(y_fish_test_categorical, y_fish_pred_categorical)\n",
        "print(MSE)\n",
        "\n",
        "# Compute the coefficient of determination using y_fish_test_categorical and y_fish_pred_categorical\n",
        "RS = r2_score(y_fish_test_categorical, y_fish_pred_categorical)\n",
        "print(RS)"
      ],
      "execution_count": 43,
      "outputs": [
        {
          "output_type": "stream",
          "name": "stdout",
          "text": [
            "34678.46536821308\n",
            "0.807183047430761\n"
          ]
        }
      ]
    },
    {
      "cell_type": "markdown",
      "metadata": {
        "id": "-PNcaCIHMkij"
      },
      "source": [
        "Using y_fish_test_categorical and y_fish_pred_categorical, what was the mean squared error for this model?"
      ]
    },
    {
      "cell_type": "markdown",
      "metadata": {
        "id": "3qdvVAuyMkij"
      },
      "source": [
        "34678.46536821308"
      ]
    },
    {
      "cell_type": "markdown",
      "metadata": {
        "id": "wwUEH3VwMkij"
      },
      "source": [
        "Using y_fish_test_categorical and y_fish_pred_categorical, what was the coefficient of detemination for this model?"
      ]
    },
    {
      "cell_type": "markdown",
      "metadata": {
        "id": "9eCKexTmNNQI"
      },
      "source": [
        "0.807183047430761"
      ]
    },
    {
      "cell_type": "markdown",
      "metadata": {
        "id": "E7Mj2JJcImZW"
      },
      "source": [
        "### g) Researching for the Best Model (15 points)"
      ]
    },
    {
      "cell_type": "markdown",
      "metadata": {
        "id": "Iqy3IOXwNXuw"
      },
      "source": [
        "Read [this](https://www.datarobot.com/blog/regularized-linear-regression-with-scikit-learn/) tutorial to see how you can control the degree of the polynomial and train a **Regularized** linear regression model.\n",
        "\n",
        "In the cell below, investigate and show your observations on:\n",
        "1. Which features are important?\n",
        "2. What polynomial order is appropriate for the model to have an appropriate fit (no overfitting or underfitting)?\n",
        "3. The impact of regularization (L2 norm or L1 norm) and the regularizer factor/parameter on model's generalization capability.\n",
        "4. Finally, report your best model (including model's cost function, regularizer, regularizer factor, and polynomial order) along with a plot of model's performance on the training data and test data. We expect this model to perform better than all prior models you trained."
      ]
    },
    {
      "cell_type": "code",
      "metadata": {
        "id": "bZG3jRfW7-wu",
        "colab": {
          "base_uri": "https://localhost:8080/",
          "height": 368
        },
        "outputId": "c7804a00-e321-4566-f356-eea16f4033bf"
      },
      "source": [
        "from sklearn.preprocessing import PolynomialFeatures\n",
        "from sklearn.pipeline import make_pipeline\n",
        "import math\n",
        "from sklearn.linear_model import Ridge\n",
        "from sklearn.linear_model import Lasso\n",
        "\n",
        "#y_fish_train X_fish_train y_fish_test X_fish_test\n",
        "MSE_test = np.empty(9)\n",
        "MSE_test_log = np.empty(9)\n",
        "MSE_train = np.empty(9)\n",
        "MSE_train_log = np.empty(9)\n",
        "\n",
        "for degree in range(1, 10):\n",
        "  Reg= make_pipeline(PolynomialFeatures(degree), LinearRegression())\n",
        "  Reg.fit(X_fish_train, y_fish_train)\n",
        "  \n",
        "  predict_test = Reg.predict(X_fish_test)\n",
        "  predict_train = Reg.predict(X_fish_train)\n",
        "\n",
        "  MSE_log = mean_squared_error(y_fish_test, predict_test)\n",
        "  MSE_test[degree - 1] = mean_squared_error(y_fish_test, predict_test)\n",
        "  MSE_test_log[degree - 1] = math.log(MSE_log)\n",
        "  \n",
        "\n",
        "  MSE_log = mean_squared_error(y_fish_train, predict_train)\n",
        "  MSE_train[degree - 1] = mean_squared_error(y_fish_train, predict_train)\n",
        "  MSE_train_log[degree - 1] = math.log(MSE_log)\n",
        "\n",
        "plt.plot(np.arange(1, 10), MSE_train_log, color='green', label='train')\n",
        "plt.plot(np.arange(1, 10), MSE_test_log, color='red', label='test')\n",
        "plt.ylim((0.0, 30))\n",
        "plt.ylabel('log(mean squared error)')\n",
        "plt.xlabel('degree')\n",
        "plt.legend(loc='lower left')\n",
        "\n",
        "Reg= make_pipeline(PolynomialFeatures(2), Ridge(1200000))\n",
        "Reg.fit(X_fish_train, y_fish_train)\n",
        "predict_test = Reg.predict(X_fish_test)\n",
        "MRE = mean_squared_error(y_fish_test, predict_test)\n",
        "print(MRE)\n",
        "\n",
        "Reg= make_pipeline(PolynomialFeatures(2), Lasso(3.4))\n",
        "Reg.fit(X_fish_train, y_fish_train)\n",
        "predict_test = Reg.predict(X_fish_test)\n",
        "MRE = mean_squared_error(y_fish_test, predict_test)\n",
        "print(MRE)\n",
        "\n",
        "MRE_log = math.log(MRE)\n",
        "plt.scatter(2, MRE_log, color='blue', label = 'best')\n",
        "plt.legend(loc='lower left')"
      ],
      "execution_count": 44,
      "outputs": [
        {
          "output_type": "stream",
          "name": "stdout",
          "text": [
            "11547.658374201554\n",
            "10787.107623148557\n"
          ]
        },
        {
          "output_type": "stream",
          "name": "stderr",
          "text": [
            "/usr/local/lib/python3.7/dist-packages/sklearn/linear_model/_coordinate_descent.py:476: ConvergenceWarning: Objective did not converge. You might want to increase the number of iterations. Duality gap: 82935.65105329591, tolerance: 1382.564213873016\n",
            "  positive)\n"
          ]
        },
        {
          "output_type": "execute_result",
          "data": {
            "text/plain": [
              "<matplotlib.legend.Legend at 0x7fafc1c8df50>"
            ]
          },
          "metadata": {},
          "execution_count": 44
        },
        {
          "output_type": "display_data",
          "data": {
            "image/png": "[encoded data removed]",
            "text/plain": [
              "<Figure size 432x288 with 1 Axes>"
            ]
          },
          "metadata": {
            "needs_background": "light"
          }
        }
      ]
    },
    {
      "cell_type": "markdown",
      "metadata": {
        "id": "xxOSRtkkOxYb"
      },
      "source": [
        "1.The measurable features are important, the species of the fish seemed to actually make the prediction less accurrate. \n",
        "---\n",
        "2.I found the polynomial of 2 degrees to have the best fit. It has the lowest test MRE while mainting a close distance to the training data.\n",
        "---\n",
        "3.Both L2 and L1 helped to lower the MRE. The L2 had to be substantially, while the L1 was good at a smaller value. L1 helped lower the MRE better. \n",
        "---\n",
        "4.My best model with the lowest MRE was the the one that had a polynomial with a degree of 2 and an L1 of 3.4.\n",
        "--\n",
        "\n"
      ]
    }
  ]
}